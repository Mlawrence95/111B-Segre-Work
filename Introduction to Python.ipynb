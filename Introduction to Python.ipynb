{
 "cells": [
  {
   "cell_type": "code",
   "execution_count": 1,
   "metadata": {},
   "outputs": [],
   "source": [
    "import numpy as np"
   ]
  },
  {
   "cell_type": "code",
   "execution_count": 2,
   "metadata": {},
   "outputs": [
    {
     "data": {
      "text/plain": [
       "[1, 2, 3, 4]"
      ]
     },
     "execution_count": 2,
     "metadata": {},
     "output_type": "execute_result"
    }
   ],
   "source": [
    "a_variable = [1,2,3,4]\n",
    "a_variable"
   ]
  },
  {
   "cell_type": "code",
   "execution_count": 3,
   "metadata": {},
   "outputs": [],
   "source": [
    "a_variable += [5]\n",
    "a_variable.append(6)"
   ]
  },
  {
   "cell_type": "code",
   "execution_count": 4,
   "metadata": {},
   "outputs": [
    {
     "data": {
      "text/plain": [
       "[1, 2, 3, 4, 5, 6]"
      ]
     },
     "execution_count": 4,
     "metadata": {},
     "output_type": "execute_result"
    }
   ],
   "source": [
    "a_variable"
   ]
  },
  {
   "cell_type": "code",
   "execution_count": 5,
   "metadata": {},
   "outputs": [
    {
     "data": {
      "text/plain": [
       "array([1, 2, 3, 4, 5, 6])"
      ]
     },
     "execution_count": 5,
     "metadata": {},
     "output_type": "execute_result"
    }
   ],
   "source": [
    "a_different_variable = np.array(a_variable)\n",
    "a_different_variable"
   ]
  },
  {
   "cell_type": "code",
   "execution_count": 6,
   "metadata": {},
   "outputs": [
    {
     "data": {
      "text/plain": [
       "array([10, 20, 30, 40, 50, 60])"
      ]
     },
     "execution_count": 6,
     "metadata": {},
     "output_type": "execute_result"
    }
   ],
   "source": [
    "a_different_variable*10"
   ]
  },
  {
   "cell_type": "code",
   "execution_count": 8,
   "metadata": {},
   "outputs": [
    {
     "data": {
      "text/plain": [
       "array([ 196,  529, 1156, 2209, 3844, 6241])"
      ]
     },
     "execution_count": 8,
     "metadata": {},
     "output_type": "execute_result"
    }
   ],
   "source": [
    "(a_different_variable**2 + a_different_variable*6 + 7)**2"
   ]
  },
  {
   "cell_type": "code",
   "execution_count": 9,
   "metadata": {},
   "outputs": [],
   "source": [
    "messy_calculation = (np.sin(a_different_variable) + np.cos(a_different_variable)**2 + np.log(a_different_variable) + np.exp(a_different_variable))"
   ]
  },
  {
   "cell_type": "code",
   "execution_count": 10,
   "metadata": {},
   "outputs": [
    {
     "data": {
      "text/plain": [
       "array([   3.85167939,    9.1646789 ,   22.30535436,   55.65489188,\n",
       "        149.14413698,  405.86306444])"
      ]
     },
     "execution_count": 10,
     "metadata": {},
     "output_type": "execute_result"
    }
   ],
   "source": [
    "messy_calculation"
   ]
  },
  {
   "cell_type": "code",
   "execution_count": 11,
   "metadata": {},
   "outputs": [
    {
     "data": {
      "text/plain": [
       "(107.66396765918506, 142.07594429143552)"
      ]
     },
     "execution_count": 11,
     "metadata": {},
     "output_type": "execute_result"
    }
   ],
   "source": [
    "np.mean(messy_calculation),np.std(messy_calculation)"
   ]
  },
  {
   "cell_type": "code",
   "execution_count": 12,
   "metadata": {},
   "outputs": [
    {
     "data": {
      "text/plain": [
       "array([0, 1, 2, 3, 4])"
      ]
     },
     "execution_count": 12,
     "metadata": {},
     "output_type": "execute_result"
    }
   ],
   "source": [
    "np.arange(5)"
   ]
  },
  {
   "cell_type": "code",
   "execution_count": 13,
   "metadata": {},
   "outputs": [
    {
     "data": {
      "text/plain": [
       "array([ 1,  2,  3,  4,  5,  6,  7,  8,  9, 10])"
      ]
     },
     "execution_count": 13,
     "metadata": {},
     "output_type": "execute_result"
    }
   ],
   "source": [
    "np.arange(1,11)"
   ]
  },
  {
   "cell_type": "code",
   "execution_count": 14,
   "metadata": {},
   "outputs": [
    {
     "data": {
      "text/plain": [
       "array([1, 3, 5, 7, 9])"
      ]
     },
     "execution_count": 14,
     "metadata": {},
     "output_type": "execute_result"
    }
   ],
   "source": [
    "np.arange(1,11,2)"
   ]
  },
  {
   "cell_type": "code",
   "execution_count": 15,
   "metadata": {},
   "outputs": [
    {
     "data": {
      "text/plain": [
       "array([  0,   2,   4,   6,   8,  10,  12,  14,  16,  18,  20,  22,  24,\n",
       "        26,  28,  30,  32,  34,  36,  38,  40,  42,  44,  46,  48,  50,\n",
       "        52,  54,  56,  58,  60,  62,  64,  66,  68,  70,  72,  74,  76,\n",
       "        78,  80,  82,  84,  86,  88,  90,  92,  94,  96,  98, 100])"
      ]
     },
     "execution_count": 15,
     "metadata": {},
     "output_type": "execute_result"
    }
   ],
   "source": [
    "data = 2* np.arange(51)\n",
    "data"
   ]
  },
  {
   "cell_type": "code",
   "execution_count": 16,
   "metadata": {},
   "outputs": [
    {
     "data": {
      "text/plain": [
       "10"
      ]
     },
     "execution_count": 16,
     "metadata": {},
     "output_type": "execute_result"
    }
   ],
   "source": [
    "data[5]"
   ]
  },
  {
   "cell_type": "code",
   "execution_count": 17,
   "metadata": {},
   "outputs": [
    {
     "data": {
      "text/plain": [
       "array([  0,   2,   4,   6,   8,  10,  12,  14,  16,  18,  20,  22,  24,\n",
       "        26,  28,  30,  32,  34,  36,  38,  40,  42,  44,  46,  48,  50,\n",
       "        52,  54,  56,  58,  60,  62,  64,  66,  68,  70,  72,  74,  76,\n",
       "        78,  80,  82,  84,  86,  88,  90,  92,  94,  96,  98, 100])"
      ]
     },
     "execution_count": 17,
     "metadata": {},
     "output_type": "execute_result"
    }
   ],
   "source": [
    "data"
   ]
  },
  {
   "cell_type": "code",
   "execution_count": 18,
   "metadata": {},
   "outputs": [
    {
     "data": {
      "text/plain": [
       "4"
      ]
     },
     "execution_count": 18,
     "metadata": {},
     "output_type": "execute_result"
    }
   ],
   "source": [
    "data[2]"
   ]
  },
  {
   "cell_type": "code",
   "execution_count": 20,
   "metadata": {},
   "outputs": [
    {
     "data": {
      "text/plain": [
       "100"
      ]
     },
     "execution_count": 20,
     "metadata": {},
     "output_type": "execute_result"
    }
   ],
   "source": [
    "data[len(data) - 1]"
   ]
  },
  {
   "cell_type": "code",
   "execution_count": 22,
   "metadata": {},
   "outputs": [
    {
     "data": {
      "text/plain": [
       "100"
      ]
     },
     "execution_count": 22,
     "metadata": {},
     "output_type": "execute_result"
    }
   ],
   "source": [
    "data[-1]"
   ]
  },
  {
   "cell_type": "code",
   "execution_count": null,
   "metadata": {},
   "outputs": [],
   "source": [
    "data[start:end:step]"
   ]
  },
  {
   "cell_type": "code",
   "execution_count": 23,
   "metadata": {},
   "outputs": [
    {
     "data": {
      "text/plain": [
       "array([0, 2, 4, 6, 8])"
      ]
     },
     "execution_count": 23,
     "metadata": {},
     "output_type": "execute_result"
    }
   ],
   "source": [
    "data[:5]"
   ]
  },
  {
   "cell_type": "code",
   "execution_count": 25,
   "metadata": {},
   "outputs": [
    {
     "data": {
      "text/plain": [
       "array([2, 4, 6, 8])"
      ]
     },
     "execution_count": 25,
     "metadata": {},
     "output_type": "execute_result"
    }
   ],
   "source": [
    "data[1:5]"
   ]
  },
  {
   "cell_type": "code",
   "execution_count": 28,
   "metadata": {},
   "outputs": [
    {
     "data": {
      "text/plain": [
       "array([2, 6])"
      ]
     },
     "execution_count": 28,
     "metadata": {},
     "output_type": "execute_result"
    }
   ],
   "source": [
    "data[1:5:2]"
   ]
  },
  {
   "cell_type": "code",
   "execution_count": 29,
   "metadata": {},
   "outputs": [
    {
     "data": {
      "text/plain": [
       "array([  0,   2,   4,   6,   8,  10,  12,  14,  16,  18,  20,  22,  24,\n",
       "        26,  28,  30,  32,  34,  36,  38,  40,  42,  44,  46,  48,  50,\n",
       "        52,  54,  56,  58,  60,  62,  64,  66,  68,  70,  72,  74,  76,\n",
       "        78,  80,  82,  84,  86,  88,  90,  92,  94,  96,  98, 100])"
      ]
     },
     "execution_count": 29,
     "metadata": {},
     "output_type": "execute_result"
    }
   ],
   "source": [
    "data"
   ]
  },
  {
   "cell_type": "code",
   "execution_count": 30,
   "metadata": {},
   "outputs": [
    {
     "data": {
      "text/plain": [
       "array([ 98, 100])"
      ]
     },
     "execution_count": 30,
     "metadata": {},
     "output_type": "execute_result"
    }
   ],
   "source": [
    "data[-2:]"
   ]
  },
  {
   "cell_type": "code",
   "execution_count": null,
   "metadata": {},
   "outputs": [],
   "source": [
    "for [thing] in [list/array]:\n",
    "    [do stuff]"
   ]
  },
  {
   "cell_type": "code",
   "execution_count": 31,
   "metadata": {},
   "outputs": [
    {
     "data": {
      "text/plain": [
       "['Is', 'energy', 'conserved', 'on', 'the', 'cosmological', 'scale?']"
      ]
     },
     "execution_count": 31,
     "metadata": {},
     "output_type": "execute_result"
    }
   ],
   "source": [
    "sentence = 'Is energy conserved on the cosmological scale?'.split()\n",
    "sentence"
   ]
  },
  {
   "cell_type": "code",
   "execution_count": 32,
   "metadata": {},
   "outputs": [
    {
     "name": "stdout",
     "output_type": "stream",
     "text": [
      "Is\n",
      "\n",
      "energy\n",
      "\n",
      "conserved\n",
      "\n",
      "on\n",
      "\n",
      "the\n",
      "\n",
      "cosmological\n",
      "\n",
      "scale?\n",
      "\n"
     ]
    }
   ],
   "source": [
    "for word in sentence:\n",
    "    print(word)\n",
    "    print()"
   ]
  },
  {
   "cell_type": "code",
   "execution_count": 44,
   "metadata": {},
   "outputs": [],
   "source": [
    "means = []\n",
    "\n",
    "highest = 1001\n",
    "batch_size = 100\n",
    "\n",
    "loops = 200"
   ]
  },
  {
   "cell_type": "code",
   "execution_count": 45,
   "metadata": {},
   "outputs": [],
   "source": [
    "for i in np.arange(loops):\n",
    "    \n",
    "    values = np.random.choice(highest,batch_size)\n",
    "    average = np.mean(values)\n",
    "    \n",
    "    means += [average]"
   ]
  },
  {
   "cell_type": "code",
   "execution_count": 46,
   "metadata": {},
   "outputs": [
    {
     "data": {
      "text/plain": [
       "[516.82000000000005,\n",
       " 500.47000000000003,\n",
       " 479.33999999999997,\n",
       " 466.56,\n",
       " 528.58000000000004,\n",
       " 534.34000000000003,\n",
       " 527.38,\n",
       " 453.42000000000002,\n",
       " 504.93000000000001,\n",
       " 461.76999999999998,\n",
       " 509.44999999999999,\n",
       " 506.94,\n",
       " 522.77999999999997,\n",
       " 476.52999999999997,\n",
       " 518.45000000000005,\n",
       " 520.41999999999996,\n",
       " 490.50999999999999,\n",
       " 476.31,\n",
       " 527.33000000000004,\n",
       " 462.69999999999999,\n",
       " 528.58000000000004,\n",
       " 542.55999999999995,\n",
       " 461.63,\n",
       " 504.99000000000001,\n",
       " 469.92000000000002,\n",
       " 517.63999999999999,\n",
       " 506.13999999999999,\n",
       " 507.19999999999999,\n",
       " 474.93000000000001,\n",
       " 509.50999999999999,\n",
       " 518.09000000000003,\n",
       " 516.85000000000002,\n",
       " 519.39999999999998,\n",
       " 496.88,\n",
       " 508.91000000000003,\n",
       " 474.58999999999997,\n",
       " 458.32999999999998,\n",
       " 544.0,\n",
       " 516.17999999999995,\n",
       " 453.00999999999999,\n",
       " 467.85000000000002,\n",
       " 515.35000000000002,\n",
       " 459.76999999999998,\n",
       " 477.76999999999998,\n",
       " 523.14999999999998,\n",
       " 504.58999999999997,\n",
       " 508.55000000000001,\n",
       " 501.16000000000003,\n",
       " 529.58000000000004,\n",
       " 458.80000000000001,\n",
       " 487.93000000000001,\n",
       " 503.87,\n",
       " 490.18000000000001,\n",
       " 493.16000000000003,\n",
       " 510.69999999999999,\n",
       " 552.41999999999996,\n",
       " 474.38,\n",
       " 499.83999999999997,\n",
       " 453.10000000000002,\n",
       " 489.26999999999998,\n",
       " 488.31,\n",
       " 507.93000000000001,\n",
       " 498.63999999999999,\n",
       " 495.87,\n",
       " 534.29999999999995,\n",
       " 506.19,\n",
       " 516.63,\n",
       " 506.95999999999998,\n",
       " 507.26999999999998,\n",
       " 498.42000000000002,\n",
       " 520.53999999999996,\n",
       " 510.63,\n",
       " 508.89999999999998,\n",
       " 466.37,\n",
       " 486.89999999999998,\n",
       " 508.69999999999999,\n",
       " 456.69,\n",
       " 466.0,\n",
       " 489.55000000000001,\n",
       " 473.36000000000001,\n",
       " 528.0,\n",
       " 472.19999999999999,\n",
       " 453.01999999999998,\n",
       " 492.30000000000001,\n",
       " 426.19999999999999,\n",
       " 479.75999999999999,\n",
       " 538.13999999999999,\n",
       " 546.58000000000004,\n",
       " 488.97000000000003,\n",
       " 542.63,\n",
       " 522.22000000000003,\n",
       " 447.41000000000003,\n",
       " 509.06,\n",
       " 500.45999999999998,\n",
       " 465.27999999999997,\n",
       " 515.21000000000004,\n",
       " 460.38999999999999,\n",
       " 487.94,\n",
       " 453.94,\n",
       " 510.50999999999999,\n",
       " 499.62,\n",
       " 514.30999999999995,\n",
       " 414.25999999999999,\n",
       " 553.83000000000004,\n",
       " 465.5,\n",
       " 535.04999999999995,\n",
       " 499.33999999999997,\n",
       " 500.06,\n",
       " 494.06,\n",
       " 443.64999999999998,\n",
       " 553.71000000000004,\n",
       " 548.86000000000001,\n",
       " 520.46000000000004,\n",
       " 468.98000000000002,\n",
       " 532.03999999999996,\n",
       " 526.45000000000005,\n",
       " 518.77999999999997,\n",
       " 484.61000000000001,\n",
       " 500.17000000000002,\n",
       " 461.55000000000001,\n",
       " 565.75999999999999,\n",
       " 506.75,\n",
       " 497.61000000000001,\n",
       " 472.23000000000002,\n",
       " 515.69000000000005,\n",
       " 497.72000000000003,\n",
       " 546.48000000000002,\n",
       " 524.34000000000003,\n",
       " 500.29000000000002,\n",
       " 486.82999999999998,\n",
       " 537.15999999999997,\n",
       " 529.09000000000003,\n",
       " 519.44000000000005,\n",
       " 519.24000000000001,\n",
       " 495.63,\n",
       " 492.27999999999997,\n",
       " 480.88,\n",
       " 499.05000000000001,\n",
       " 490.44,\n",
       " 438.91000000000003,\n",
       " 467.58999999999997,\n",
       " 476.92000000000002,\n",
       " 473.29000000000002,\n",
       " 448.13999999999999,\n",
       " 505.10000000000002,\n",
       " 497.73000000000002,\n",
       " 480.55000000000001,\n",
       " 531.82000000000005,\n",
       " 520.37,\n",
       " 552.95000000000005,\n",
       " 462.81999999999999,\n",
       " 542.09000000000003,\n",
       " 465.36000000000001,\n",
       " 524.53999999999996,\n",
       " 524.09000000000003,\n",
       " 491.05000000000001,\n",
       " 475.77999999999997,\n",
       " 482.68000000000001,\n",
       " 511.45999999999998,\n",
       " 496.08999999999997,\n",
       " 568.03999999999996,\n",
       " 475.49000000000001,\n",
       " 496.00999999999999,\n",
       " 534.58000000000004,\n",
       " 502.79000000000002,\n",
       " 479.54000000000002,\n",
       " 589.76999999999998,\n",
       " 476.24000000000001,\n",
       " 533.25,\n",
       " 537.74000000000001,\n",
       " 530.25,\n",
       " 513.60000000000002,\n",
       " 534.88,\n",
       " 502.5,\n",
       " 518.64999999999998,\n",
       " 501.56999999999999,\n",
       " 511.48000000000002,\n",
       " 507.25,\n",
       " 468.86000000000001,\n",
       " 497.24000000000001,\n",
       " 535.53999999999996,\n",
       " 516.98000000000002,\n",
       " 485.81,\n",
       " 512.02999999999997,\n",
       " 450.33999999999997,\n",
       " 502.23000000000002,\n",
       " 464.56,\n",
       " 497.36000000000001,\n",
       " 491.56999999999999,\n",
       " 493.17000000000002,\n",
       " 525.13,\n",
       " 536.15999999999997,\n",
       " 447.70999999999998,\n",
       " 538.88999999999999,\n",
       " 534.17999999999995,\n",
       " 477.81999999999999,\n",
       " 548.99000000000001,\n",
       " 502.49000000000001,\n",
       " 477.63,\n",
       " 529.88]"
      ]
     },
     "execution_count": 46,
     "metadata": {},
     "output_type": "execute_result"
    }
   ],
   "source": [
    "means"
   ]
  },
  {
   "cell_type": "code",
   "execution_count": 47,
   "metadata": {},
   "outputs": [
    {
     "data": {
      "text/plain": [
       "(500.66949999999997, 29.05872008107033)"
      ]
     },
     "execution_count": 47,
     "metadata": {},
     "output_type": "execute_result"
    }
   ],
   "source": [
    "np.mean(means),np.std(means)"
   ]
  },
  {
   "cell_type": "code",
   "execution_count": null,
   "metadata": {},
   "outputs": [],
   "source": [
    "while [something true]:\n",
    "    [run stuff]"
   ]
  },
  {
   "cell_type": "code",
   "execution_count": 48,
   "metadata": {},
   "outputs": [
    {
     "name": "stdout",
     "output_type": "stream",
     "text": [
      "3\n",
      "9\n",
      "\n",
      "4\n",
      "16\n",
      "\n",
      "5\n",
      "25\n",
      "\n"
     ]
    }
   ],
   "source": [
    "x = 3\n",
    "\n",
    "while x < 6:\n",
    "    print(x)\n",
    "    print(x**2)\n",
    "    print()\n",
    "    \n",
    "    x += 1\n"
   ]
  },
  {
   "cell_type": "code",
   "execution_count": 67,
   "metadata": {},
   "outputs": [],
   "source": [
    "total = 0\n",
    "\n",
    "i = 0\n",
    "\n",
    "while total < 100:\n",
    "    total += i\n",
    "    \n",
    "    i += 1"
   ]
  },
  {
   "cell_type": "code",
   "execution_count": 69,
   "metadata": {},
   "outputs": [
    {
     "data": {
      "text/plain": [
       "(105, 15)"
      ]
     },
     "execution_count": 69,
     "metadata": {},
     "output_type": "execute_result"
    }
   ],
   "source": [
    "total, i"
   ]
  },
  {
   "cell_type": "code",
   "execution_count": 71,
   "metadata": {},
   "outputs": [
    {
     "name": "stdout",
     "output_type": "stream",
     "text": [
      "Tails\n"
     ]
    }
   ],
   "source": [
    "if np.random.choice(101) < 50:\n",
    "    print('Heads')\n",
    "else:\n",
    "    print('Tails')"
   ]
  },
  {
   "cell_type": "code",
   "execution_count": null,
   "metadata": {},
   "outputs": [],
   "source": [
    "def function_name(input1, input2, ..., inputn):\n",
    "    [do stuff]\n",
    "    return outputs"
   ]
  },
  {
   "cell_type": "code",
   "execution_count": 72,
   "metadata": {},
   "outputs": [],
   "source": [
    "def hello():\n",
    "    return 'Hello'"
   ]
  },
  {
   "cell_type": "code",
   "execution_count": 73,
   "metadata": {},
   "outputs": [
    {
     "data": {
      "text/plain": [
       "'Hello'"
      ]
     },
     "execution_count": 73,
     "metadata": {},
     "output_type": "execute_result"
    }
   ],
   "source": [
    "hello()"
   ]
  },
  {
   "cell_type": "code",
   "execution_count": 76,
   "metadata": {},
   "outputs": [
    {
     "data": {
      "text/plain": [
       "'Hello'"
      ]
     },
     "execution_count": 76,
     "metadata": {},
     "output_type": "execute_result"
    }
   ],
   "source": [
    "hello()"
   ]
  },
  {
   "cell_type": "code",
   "execution_count": 77,
   "metadata": {},
   "outputs": [],
   "source": [
    "def is_odd(number):\n",
    "    if np.abs(number) % 2 == 1:\n",
    "        return True\n",
    "    else:\n",
    "        return False"
   ]
  },
  {
   "cell_type": "code",
   "execution_count": 80,
   "metadata": {},
   "outputs": [
    {
     "data": {
      "text/plain": [
       "False"
      ]
     },
     "execution_count": 80,
     "metadata": {},
     "output_type": "execute_result"
    }
   ],
   "source": [
    "is_odd(0)"
   ]
  }
 ],
 "metadata": {
  "kernelspec": {
   "display_name": "Python 3",
   "language": "python",
   "name": "python3"
  },
  "language_info": {
   "codemirror_mode": {
    "name": "ipython",
    "version": 3
   },
   "file_extension": ".py",
   "mimetype": "text/x-python",
   "name": "python",
   "nbconvert_exporter": "python",
   "pygments_lexer": "ipython3",
   "version": "3.6.4"
  }
 },
 "nbformat": 4,
 "nbformat_minor": 2
}
