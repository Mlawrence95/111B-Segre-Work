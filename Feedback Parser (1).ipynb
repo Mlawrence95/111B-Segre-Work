{
 "cells": [
  {
   "cell_type": "code",
   "execution_count": 34,
   "metadata": {},
   "outputs": [],
   "source": [
    "import pandas as pd\n",
    "import os"
   ]
  },
  {
   "cell_type": "code",
   "execution_count": 35,
   "metadata": {},
   "outputs": [
    {
     "data": {
      "text/plain": [
       "['.ipynb_checkpoints',\n",
       " '1microbeads.txt',\n",
       " '1microbeadsround2.txt',\n",
       " 'analysis stuff, BMC primary.ipynb',\n",
       " 'Analysis Work.ipynb',\n",
       " 'BMC analysis BACKUP.ipynb',\n",
       " 'BMC Analysis Code.ipynb',\n",
       " 'Feedback Parser.ipynb',\n",
       " 'Particles.txt',\n",
       " 'student_evaluation_of_experiment.csv']"
      ]
     },
     "execution_count": 35,
     "metadata": {},
     "output_type": "execute_result"
    }
   ],
   "source": [
    "os.listdir()"
   ]
  },
  {
   "cell_type": "code",
   "execution_count": 65,
   "metadata": {},
   "outputs": [],
   "source": [
    "data = pd.read_csv('student_evaluation_of_experiment.csv')\n",
    "#data"
   ]
  },
  {
   "cell_type": "code",
   "execution_count": 39,
   "metadata": {},
   "outputs": [
    {
     "data": {
      "text/plain": [
       "array(['ATM - Atomic Physics', 'BMC - Brownian Motion in Cells',\n",
       "       'GMA - Gamma-ray Spectroscopy', 'Error Analysis',\n",
       "       'OPT - Optical Pumping', 'JOS - Josephson Junction',\n",
       "       'AFM - Atomic Force Microscopy',\n",
       "       'NLD - Non-Linear Dynamics and Chaos',\n",
       "       'RUT - Rutherford Scattering', 'CO2 - CO2 Laser',\n",
       "       'COM - Compton Scattering', 'SHE - Hall Effect in Semiconductor',\n",
       "       'MUO - Muon Lifetime', 'MOT - Atom Trapping',\n",
       "       'QIE - Quantum Interference & Entanglement',\n",
       "       'NMR - Nuclear Magnetic Resonance',\n",
       "       'HAL - Hall Effect in a Plasma'], dtype=object)"
      ]
     },
     "execution_count": 39,
     "metadata": {},
     "output_type": "execute_result"
    }
   ],
   "source": [
    "#find the experiment names, put them in a list to iterate over later\n",
    "experiments = data['Experiment name'].unique()\n",
    "experiments"
   ]
  },
  {
   "cell_type": "code",
   "execution_count": 66,
   "metadata": {},
   "outputs": [],
   "source": [
    "#Get rid of entries in the table where feedback in the first two questions is the same\n",
    "# ie spam answers \n",
    "unique = data[data[data.columns[8]] != data[data.columns[9]]]\n",
    "#unique"
   ]
  },
  {
   "cell_type": "code",
   "execution_count": 62,
   "metadata": {},
   "outputs": [
    {
     "data": {
      "text/plain": [
       "Index(['How was the write-up for this experiment? How could it be improved?',\n",
       "       'How easily did you get started? What sources of information were most/least helpful? Were the reprints appropriate? Did the pre-lab help? Did you need to go outside the course materials for assistance? What additional materials did you need?',\n",
       "       'What did you like and/or dislike about the experiment?',\n",
       "       'Did you like the write-up or does it need improvement? How?',\n",
       "       'Would you recommend this lab to fellow student? Why or why not?'],\n",
       "      dtype='object')"
      ]
     },
     "execution_count": 62,
     "metadata": {},
     "output_type": "execute_result"
    }
   ],
   "source": [
    "#this selects which columns/questions we want to print out. \n",
    "#if more columns are ever added, or you want to print out a different column,\n",
    "#change the indices below and make sure the column is represented when\n",
    "#questions is called\n",
    "\n",
    "questions = data.columns[7:12]\n",
    "questions"
   ]
  },
  {
   "cell_type": "code",
   "execution_count": 63,
   "metadata": {},
   "outputs": [],
   "source": [
    "# this function is just meant to select out unique entries so that the printed feedback isn't\n",
    "# 20 entries of \"hard\" or blank values\n",
    "\n",
    "def unique_strings(lst):\n",
    "    #lst is a list containing strings\n",
    "    uniques = []\n",
    "    \n",
    "    for entry in lst:\n",
    "        entry = str(entry)\n",
    "        \n",
    "        if str(entry) == 'nan':\n",
    "            continue\n",
    "        elif entry not in uniques:\n",
    "            uniques.append(entry)\n",
    "    \n",
    "    return uniques"
   ]
  },
  {
   "cell_type": "code",
   "execution_count": 64,
   "metadata": {},
   "outputs": [],
   "source": [
    "# RUN THIS ONCE\n",
    "# this makes a .txt file in its directory for EVERY experiment\n",
    "\n",
    "# i recommend running this code in its own directory to prevent making a mess\n",
    "# also be aware that this cell WILL overwrite things named [experiment name].txt in your directory\n",
    "\n",
    "#after this runs, the parsed feedback will have its own file per experiment that youre free to print out, etc\n",
    "\n",
    "for experiment in experiments:\n",
    "    number_of_dashes = 70\n",
    "    \n",
    "    file = open(experiment+'.txt','w')\n",
    "    file.write(str(number_of_dashes*'-')+'\\n')\n",
    "    file.write(str(number_of_dashes*'-')+'\\n')\n",
    "    file.write(str(experiment)+'\\n')\n",
    "    file.write(str(number_of_dashes*'-')+'\\n')\n",
    "    file.write(str(number_of_dashes*'-')+'\\n')\n",
    "    file.write('\\n')\n",
    "    file.write('\\n')\n",
    "    \n",
    "    for question in questions:\n",
    "        \n",
    "        file.write(str(number_of_dashes*'-')+'\\n')\n",
    "        file.write(question+'\\n')\n",
    "        file.write(str(number_of_dashes*'-')+'\\n')\n",
    "        file.write('\\n')\n",
    "        file.write('\\n')\n",
    "        \n",
    "        feedback = unique_strings(list(unique[unique['Experiment name'] == experiment][question]))\n",
    "        \n",
    "        for comment in feedback:\n",
    "            file.write(comment+'\\n')\n",
    "            file.write('\\n')\n",
    "    file.close()"
   ]
  },
  {
   "cell_type": "code",
   "execution_count": null,
   "metadata": {},
   "outputs": [],
   "source": []
  }
 ],
 "metadata": {
  "kernelspec": {
   "display_name": "Python 3",
   "language": "python",
   "name": "python3"
  },
  "language_info": {
   "codemirror_mode": {
    "name": "ipython",
    "version": 3
   },
   "file_extension": ".py",
   "mimetype": "text/x-python",
   "name": "python",
   "nbconvert_exporter": "python",
   "pygments_lexer": "ipython3",
   "version": "3.6.5"
  }
 },
 "nbformat": 4,
 "nbformat_minor": 2
}
