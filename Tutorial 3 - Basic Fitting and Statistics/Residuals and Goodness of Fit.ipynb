{
 "cells": [
  {
   "cell_type": "code",
   "execution_count": 743,
   "metadata": {},
   "outputs": [],
   "source": [
    "import numpy as np\n",
    "import pandas as pd\n",
    "\n",
    "import matplotlib.pyplot as plt  \n",
    "%matplotlib inline  \n",
    "\n",
    "import os\n",
    "\n",
    "import seaborn as sns\n",
    "from scipy import stats, optimize\n",
    "\n",
    "import statsmodels.api as sm"
   ]
  },
  {
   "cell_type": "code",
   "execution_count": 744,
   "metadata": {},
   "outputs": [
    {
     "data": {
      "text/plain": [
       "['.ipynb_checkpoints',\n",
       " 'Circuit data.csv',\n",
       " 'Monday data.csv',\n",
       " 'Residuals and Goodness of Fit.ipynb',\n",
       " 'Untitled.ipynb']"
      ]
     },
     "execution_count": 744,
     "metadata": {},
     "output_type": "execute_result"
    }
   ],
   "source": [
    "#os.chdir(\"Tutorial 1\")\n",
    "\n",
    "files = os.listdir()\n",
    "files"
   ]
  },
  {
   "cell_type": "code",
   "execution_count": 745,
   "metadata": {},
   "outputs": [
    {
     "data": {
      "text/plain": [
       "'Circuit data.csv'"
      ]
     },
     "execution_count": 745,
     "metadata": {},
     "output_type": "execute_result"
    }
   ],
   "source": [
    "test_file = files[1]\n",
    "test_file"
   ]
  },
  {
   "cell_type": "code",
   "execution_count": 746,
   "metadata": {
    "scrolled": true
   },
   "outputs": [],
   "source": [
    "test_table = pd.read_csv(test_file)"
   ]
  },
  {
   "cell_type": "code",
   "execution_count": 747,
   "metadata": {
    "scrolled": true
   },
   "outputs": [
    {
     "data": {
      "text/html": [
       "<div>\n",
       "<style scoped>\n",
       "    .dataframe tbody tr th:only-of-type {\n",
       "        vertical-align: middle;\n",
       "    }\n",
       "\n",
       "    .dataframe tbody tr th {\n",
       "        vertical-align: top;\n",
       "    }\n",
       "\n",
       "    .dataframe thead th {\n",
       "        text-align: right;\n",
       "    }\n",
       "</style>\n",
       "<table border=\"1\" class=\"dataframe\">\n",
       "  <thead>\n",
       "    <tr style=\"text-align: right;\">\n",
       "      <th></th>\n",
       "      <th>Current (mA)</th>\n",
       "      <th>Voltage (mV)</th>\n",
       "      <th>Calculated Resistance (Ohms)</th>\n",
       "      <th>Uncertainty (+/- 20% mV)</th>\n",
       "    </tr>\n",
       "  </thead>\n",
       "  <tbody>\n",
       "    <tr>\n",
       "      <th>0</th>\n",
       "      <td>58.2</td>\n",
       "      <td>12900.0</td>\n",
       "      <td>221.65</td>\n",
       "      <td>2580.0</td>\n",
       "    </tr>\n",
       "    <tr>\n",
       "      <th>1</th>\n",
       "      <td>77.5</td>\n",
       "      <td>20019.0</td>\n",
       "      <td>258.31</td>\n",
       "      <td>4003.8</td>\n",
       "    </tr>\n",
       "    <tr>\n",
       "      <th>2</th>\n",
       "      <td>36.1</td>\n",
       "      <td>7373.0</td>\n",
       "      <td>204.24</td>\n",
       "      <td>1474.6</td>\n",
       "    </tr>\n",
       "    <tr>\n",
       "      <th>3</th>\n",
       "      <td>87.5</td>\n",
       "      <td>22439.0</td>\n",
       "      <td>256.45</td>\n",
       "      <td>4487.8</td>\n",
       "    </tr>\n",
       "    <tr>\n",
       "      <th>4</th>\n",
       "      <td>52.4</td>\n",
       "      <td>12522.0</td>\n",
       "      <td>238.97</td>\n",
       "      <td>2504.4</td>\n",
       "    </tr>\n",
       "    <tr>\n",
       "      <th>5</th>\n",
       "      <td>11.4</td>\n",
       "      <td>2605.0</td>\n",
       "      <td>228.51</td>\n",
       "      <td>521.0</td>\n",
       "    </tr>\n",
       "    <tr>\n",
       "      <th>6</th>\n",
       "      <td>89.1</td>\n",
       "      <td>25947.0</td>\n",
       "      <td>291.21</td>\n",
       "      <td>5189.4</td>\n",
       "    </tr>\n",
       "    <tr>\n",
       "      <th>7</th>\n",
       "      <td>8.0</td>\n",
       "      <td>1680.0</td>\n",
       "      <td>210.00</td>\n",
       "      <td>336.0</td>\n",
       "    </tr>\n",
       "    <tr>\n",
       "      <th>8</th>\n",
       "      <td>4.5</td>\n",
       "      <td>873.0</td>\n",
       "      <td>194.00</td>\n",
       "      <td>174.6</td>\n",
       "    </tr>\n",
       "    <tr>\n",
       "      <th>9</th>\n",
       "      <td>47.5</td>\n",
       "      <td>11400.0</td>\n",
       "      <td>240.00</td>\n",
       "      <td>2280.0</td>\n",
       "    </tr>\n",
       "    <tr>\n",
       "      <th>10</th>\n",
       "      <td>97.0</td>\n",
       "      <td>18386.0</td>\n",
       "      <td>189.55</td>\n",
       "      <td>3677.2</td>\n",
       "    </tr>\n",
       "    <tr>\n",
       "      <th>11</th>\n",
       "      <td>9.7</td>\n",
       "      <td>1011.0</td>\n",
       "      <td>104.23</td>\n",
       "      <td>202.2</td>\n",
       "    </tr>\n",
       "    <tr>\n",
       "      <th>12</th>\n",
       "      <td>94.6</td>\n",
       "      <td>20492.0</td>\n",
       "      <td>216.62</td>\n",
       "      <td>4098.4</td>\n",
       "    </tr>\n",
       "    <tr>\n",
       "      <th>13</th>\n",
       "      <td>50.6</td>\n",
       "      <td>10377.0</td>\n",
       "      <td>205.08</td>\n",
       "      <td>2075.4</td>\n",
       "    </tr>\n",
       "    <tr>\n",
       "      <th>14</th>\n",
       "      <td>24.4</td>\n",
       "      <td>6762.0</td>\n",
       "      <td>277.13</td>\n",
       "      <td>1352.4</td>\n",
       "    </tr>\n",
       "    <tr>\n",
       "      <th>15</th>\n",
       "      <td>60.4</td>\n",
       "      <td>10261.0</td>\n",
       "      <td>169.88</td>\n",
       "      <td>2052.2</td>\n",
       "    </tr>\n",
       "    <tr>\n",
       "      <th>16</th>\n",
       "      <td>18.8</td>\n",
       "      <td>2142.0</td>\n",
       "      <td>113.94</td>\n",
       "      <td>428.4</td>\n",
       "    </tr>\n",
       "    <tr>\n",
       "      <th>17</th>\n",
       "      <td>8.4</td>\n",
       "      <td>1416.0</td>\n",
       "      <td>168.57</td>\n",
       "      <td>283.2</td>\n",
       "    </tr>\n",
       "    <tr>\n",
       "      <th>18</th>\n",
       "      <td>42.8</td>\n",
       "      <td>7830.0</td>\n",
       "      <td>182.94</td>\n",
       "      <td>1566.0</td>\n",
       "    </tr>\n",
       "    <tr>\n",
       "      <th>19</th>\n",
       "      <td>48.1</td>\n",
       "      <td>10267.0</td>\n",
       "      <td>213.45</td>\n",
       "      <td>2053.4</td>\n",
       "    </tr>\n",
       "    <tr>\n",
       "      <th>20</th>\n",
       "      <td>35.2</td>\n",
       "      <td>7766.0</td>\n",
       "      <td>220.62</td>\n",
       "      <td>1553.2</td>\n",
       "    </tr>\n",
       "    <tr>\n",
       "      <th>21</th>\n",
       "      <td>84.0</td>\n",
       "      <td>19486.0</td>\n",
       "      <td>231.98</td>\n",
       "      <td>3897.2</td>\n",
       "    </tr>\n",
       "    <tr>\n",
       "      <th>22</th>\n",
       "      <td>55.1</td>\n",
       "      <td>13135.0</td>\n",
       "      <td>238.38</td>\n",
       "      <td>2627.0</td>\n",
       "    </tr>\n",
       "    <tr>\n",
       "      <th>23</th>\n",
       "      <td>19.6</td>\n",
       "      <td>3837.0</td>\n",
       "      <td>195.77</td>\n",
       "      <td>767.4</td>\n",
       "    </tr>\n",
       "    <tr>\n",
       "      <th>24</th>\n",
       "      <td>2.3</td>\n",
       "      <td>455.0</td>\n",
       "      <td>197.83</td>\n",
       "      <td>91.0</td>\n",
       "    </tr>\n",
       "    <tr>\n",
       "      <th>25</th>\n",
       "      <td>98.2</td>\n",
       "      <td>21545.0</td>\n",
       "      <td>219.40</td>\n",
       "      <td>4309.0</td>\n",
       "    </tr>\n",
       "    <tr>\n",
       "      <th>26</th>\n",
       "      <td>13.0</td>\n",
       "      <td>2211.0</td>\n",
       "      <td>170.08</td>\n",
       "      <td>442.2</td>\n",
       "    </tr>\n",
       "    <tr>\n",
       "      <th>27</th>\n",
       "      <td>64.5</td>\n",
       "      <td>9678.0</td>\n",
       "      <td>150.05</td>\n",
       "      <td>1935.6</td>\n",
       "    </tr>\n",
       "    <tr>\n",
       "      <th>28</th>\n",
       "      <td>91.6</td>\n",
       "      <td>18514.0</td>\n",
       "      <td>202.12</td>\n",
       "      <td>3702.8</td>\n",
       "    </tr>\n",
       "    <tr>\n",
       "      <th>29</th>\n",
       "      <td>90.4</td>\n",
       "      <td>22279.0</td>\n",
       "      <td>246.45</td>\n",
       "      <td>4455.8</td>\n",
       "    </tr>\n",
       "    <tr>\n",
       "      <th>30</th>\n",
       "      <td>44.3</td>\n",
       "      <td>9388.0</td>\n",
       "      <td>211.92</td>\n",
       "      <td>1877.6</td>\n",
       "    </tr>\n",
       "    <tr>\n",
       "      <th>31</th>\n",
       "      <td>96.3</td>\n",
       "      <td>18198.0</td>\n",
       "      <td>188.97</td>\n",
       "      <td>3639.6</td>\n",
       "    </tr>\n",
       "    <tr>\n",
       "      <th>32</th>\n",
       "      <td>64.5</td>\n",
       "      <td>10673.0</td>\n",
       "      <td>165.47</td>\n",
       "      <td>2134.6</td>\n",
       "    </tr>\n",
       "    <tr>\n",
       "      <th>33</th>\n",
       "      <td>22.3</td>\n",
       "      <td>4197.0</td>\n",
       "      <td>188.21</td>\n",
       "      <td>839.4</td>\n",
       "    </tr>\n",
       "    <tr>\n",
       "      <th>34</th>\n",
       "      <td>52.5</td>\n",
       "      <td>6461.0</td>\n",
       "      <td>123.07</td>\n",
       "      <td>1292.2</td>\n",
       "    </tr>\n",
       "    <tr>\n",
       "      <th>35</th>\n",
       "      <td>87.2</td>\n",
       "      <td>18375.0</td>\n",
       "      <td>210.72</td>\n",
       "      <td>3675.0</td>\n",
       "    </tr>\n",
       "    <tr>\n",
       "      <th>36</th>\n",
       "      <td>49.8</td>\n",
       "      <td>9548.0</td>\n",
       "      <td>191.73</td>\n",
       "      <td>1909.6</td>\n",
       "    </tr>\n",
       "    <tr>\n",
       "      <th>37</th>\n",
       "      <td>91.8</td>\n",
       "      <td>11647.0</td>\n",
       "      <td>126.87</td>\n",
       "      <td>2329.4</td>\n",
       "    </tr>\n",
       "    <tr>\n",
       "      <th>38</th>\n",
       "      <td>50.6</td>\n",
       "      <td>5272.0</td>\n",
       "      <td>104.19</td>\n",
       "      <td>1054.4</td>\n",
       "    </tr>\n",
       "    <tr>\n",
       "      <th>39</th>\n",
       "      <td>95.7</td>\n",
       "      <td>18952.0</td>\n",
       "      <td>198.04</td>\n",
       "      <td>3790.4</td>\n",
       "    </tr>\n",
       "    <tr>\n",
       "      <th>40</th>\n",
       "      <td>22.7</td>\n",
       "      <td>3097.0</td>\n",
       "      <td>136.43</td>\n",
       "      <td>619.4</td>\n",
       "    </tr>\n",
       "    <tr>\n",
       "      <th>41</th>\n",
       "      <td>85.0</td>\n",
       "      <td>16945.0</td>\n",
       "      <td>199.35</td>\n",
       "      <td>3389.0</td>\n",
       "    </tr>\n",
       "  </tbody>\n",
       "</table>\n",
       "</div>"
      ],
      "text/plain": [
       "    Current (mA)  Voltage (mV)  Calculated Resistance (Ohms)  \\\n",
       "0           58.2       12900.0                        221.65   \n",
       "1           77.5       20019.0                        258.31   \n",
       "2           36.1        7373.0                        204.24   \n",
       "3           87.5       22439.0                        256.45   \n",
       "4           52.4       12522.0                        238.97   \n",
       "5           11.4        2605.0                        228.51   \n",
       "6           89.1       25947.0                        291.21   \n",
       "7            8.0        1680.0                        210.00   \n",
       "8            4.5         873.0                        194.00   \n",
       "9           47.5       11400.0                        240.00   \n",
       "10          97.0       18386.0                        189.55   \n",
       "11           9.7        1011.0                        104.23   \n",
       "12          94.6       20492.0                        216.62   \n",
       "13          50.6       10377.0                        205.08   \n",
       "14          24.4        6762.0                        277.13   \n",
       "15          60.4       10261.0                        169.88   \n",
       "16          18.8        2142.0                        113.94   \n",
       "17           8.4        1416.0                        168.57   \n",
       "18          42.8        7830.0                        182.94   \n",
       "19          48.1       10267.0                        213.45   \n",
       "20          35.2        7766.0                        220.62   \n",
       "21          84.0       19486.0                        231.98   \n",
       "22          55.1       13135.0                        238.38   \n",
       "23          19.6        3837.0                        195.77   \n",
       "24           2.3         455.0                        197.83   \n",
       "25          98.2       21545.0                        219.40   \n",
       "26          13.0        2211.0                        170.08   \n",
       "27          64.5        9678.0                        150.05   \n",
       "28          91.6       18514.0                        202.12   \n",
       "29          90.4       22279.0                        246.45   \n",
       "30          44.3        9388.0                        211.92   \n",
       "31          96.3       18198.0                        188.97   \n",
       "32          64.5       10673.0                        165.47   \n",
       "33          22.3        4197.0                        188.21   \n",
       "34          52.5        6461.0                        123.07   \n",
       "35          87.2       18375.0                        210.72   \n",
       "36          49.8        9548.0                        191.73   \n",
       "37          91.8       11647.0                        126.87   \n",
       "38          50.6        5272.0                        104.19   \n",
       "39          95.7       18952.0                        198.04   \n",
       "40          22.7        3097.0                        136.43   \n",
       "41          85.0       16945.0                        199.35   \n",
       "\n",
       "    Uncertainty (+/- 20% mV)  \n",
       "0                     2580.0  \n",
       "1                     4003.8  \n",
       "2                     1474.6  \n",
       "3                     4487.8  \n",
       "4                     2504.4  \n",
       "5                      521.0  \n",
       "6                     5189.4  \n",
       "7                      336.0  \n",
       "8                      174.6  \n",
       "9                     2280.0  \n",
       "10                    3677.2  \n",
       "11                     202.2  \n",
       "12                    4098.4  \n",
       "13                    2075.4  \n",
       "14                    1352.4  \n",
       "15                    2052.2  \n",
       "16                     428.4  \n",
       "17                     283.2  \n",
       "18                    1566.0  \n",
       "19                    2053.4  \n",
       "20                    1553.2  \n",
       "21                    3897.2  \n",
       "22                    2627.0  \n",
       "23                     767.4  \n",
       "24                      91.0  \n",
       "25                    4309.0  \n",
       "26                     442.2  \n",
       "27                    1935.6  \n",
       "28                    3702.8  \n",
       "29                    4455.8  \n",
       "30                    1877.6  \n",
       "31                    3639.6  \n",
       "32                    2134.6  \n",
       "33                     839.4  \n",
       "34                    1292.2  \n",
       "35                    3675.0  \n",
       "36                    1909.6  \n",
       "37                    2329.4  \n",
       "38                    1054.4  \n",
       "39                    3790.4  \n",
       "40                     619.4  \n",
       "41                    3389.0  "
      ]
     },
     "execution_count": 747,
     "metadata": {},
     "output_type": "execute_result"
    }
   ],
   "source": [
    "test_table"
   ]
  },
  {
   "cell_type": "code",
   "execution_count": 748,
   "metadata": {
    "scrolled": true
   },
   "outputs": [
    {
     "data": {
      "text/plain": [
       "Index(['Current (mA)', 'Voltage (mV)', 'Calculated Resistance (Ohms)',\n",
       "       'Uncertainty (+/- 20% mV)'],\n",
       "      dtype='object')"
      ]
     },
     "execution_count": 748,
     "metadata": {},
     "output_type": "execute_result"
    }
   ],
   "source": [
    "columns = test_table.columns\n",
    "columns"
   ]
  },
  {
   "cell_type": "code",
   "execution_count": 758,
   "metadata": {},
   "outputs": [],
   "source": [
    "x = test_table[columns[0]].values\n",
    "y = test_table[columns[1]].values\n",
    "\n",
    "uncertainty = test_table[columns[3]].values"
   ]
  },
  {
   "cell_type": "markdown",
   "metadata": {},
   "source": [
    "## Fitting Linear Models"
   ]
  },
  {
   "cell_type": "code",
   "execution_count": 759,
   "metadata": {},
   "outputs": [
    {
     "data": {
      "text/plain": [
       "<matplotlib.legend.Legend at 0x1c70d668>"
      ]
     },
     "execution_count": 759,
     "metadata": {},
     "output_type": "execute_result"
    },
    {
     "data": {
      "image/png": "[encoded data removed]",
      "text/plain": [
       "<Figure size 432x288 with 1 Axes>"
      ]
     },
     "metadata": {},
     "output_type": "display_data"
    }
   ],
   "source": [
    "plt.scatter(x,y)\n",
    "plt.errorbar(x,y,yerr=uncertainty,fmt='none',label='Experimental Uncertainty',color='orange')\n",
    "\n",
    "plt.xlabel('x data')\n",
    "plt.ylabel('y data')\n",
    "plt.legend(loc=2)"
   ]
  },
  {
   "cell_type": "markdown",
   "metadata": {},
   "source": [
    "# 1) General Approach: Curvefit with specified model (SciPy)"
   ]
  },
  {
   "cell_type": "code",
   "execution_count": 760,
   "metadata": {},
   "outputs": [],
   "source": [
    "def linear(x,m,b):\n",
    "    return m*x + b"
   ]
  },
  {
   "cell_type": "code",
   "execution_count": 761,
   "metadata": {},
   "outputs": [
    {
     "data": {
      "text/plain": [
       "(array([ 216.61817733, -658.17956687]), array([ 12.7020236, 784.4989699]))"
      ]
     },
     "execution_count": 761,
     "metadata": {},
     "output_type": "execute_result"
    }
   ],
   "source": [
    "params, cov = optimize.curve_fit(linear,xdata=x,ydata=y)\n",
    "\n",
    "error_on_params = np.sqrt(np.diagonal(cov))\n",
    "\n",
    "params, error_on_params"
   ]
  },
  {
   "cell_type": "markdown",
   "metadata": {},
   "source": [
    "# 2) Using stats' linear regression (SciPy)"
   ]
  },
  {
   "cell_type": "code",
   "execution_count": 762,
   "metadata": {},
   "outputs": [
    {
     "data": {
      "text/plain": [
       "LinregressResult(slope=216.61817585904015, intercept=-658.179508508154, rvalue=0.9375996859019955, pvalue=5.939964639280726e-20, stderr=12.702022012919148)"
      ]
     },
     "execution_count": 762,
     "metadata": {},
     "output_type": "execute_result"
    }
   ],
   "source": [
    "stats.linregress(x,y)"
   ]
  },
  {
   "cell_type": "code",
   "execution_count": 763,
   "metadata": {},
   "outputs": [
    {
     "data": {
      "text/plain": [
       "(array([14.42579372,  2.01885345]), array([3.25087087, 0.05425467]))"
      ]
     },
     "execution_count": 763,
     "metadata": {},
     "output_type": "execute_result"
    }
   ],
   "source": [
    "fitted.params,np.sqrt(np.diagonal(fitted.cov_params()))"
   ]
  },
  {
   "cell_type": "markdown",
   "metadata": {},
   "source": [
    "# 3) Using ordinary least squares with summary (Statsmodels)"
   ]
  },
  {
   "cell_type": "code",
   "execution_count": 764,
   "metadata": {},
   "outputs": [],
   "source": [
    "x_fit = sm.add_constant(x)\n",
    "\n",
    "fitted = sm.OLS(y,x_fit).fit()"
   ]
  },
  {
   "cell_type": "code",
   "execution_count": 765,
   "metadata": {},
   "outputs": [
    {
     "name": "stdout",
     "output_type": "stream",
     "text": [
      "                            OLS Regression Results                            \n",
      "==============================================================================\n",
      "Dep. Variable:                      y   R-squared:                       0.879\n",
      "Model:                            OLS   Adj. R-squared:                  0.876\n",
      "Method:                 Least Squares   F-statistic:                     290.8\n",
      "Date:                Fri, 03 Aug 2018   Prob (F-statistic):           5.94e-20\n",
      "Time:                        15:01:32   Log-Likelihood:                -388.04\n",
      "No. Observations:                  42   AIC:                             780.1\n",
      "Df Residuals:                      40   BIC:                             783.6\n",
      "Df Model:                           1                                         \n",
      "Covariance Type:            nonrobust                                         \n",
      "==============================================================================\n",
      "                 coef    std err          t      P>|t|      [0.025      0.975]\n",
      "------------------------------------------------------------------------------\n",
      "const       -658.1795    784.499     -0.839      0.406   -2243.711     927.352\n",
      "x1           216.6182     12.702     17.054      0.000     190.946     242.290\n",
      "==============================================================================\n",
      "Omnibus:                        5.917   Durbin-Watson:                   1.359\n",
      "Prob(Omnibus):                  0.052   Jarque-Bera (JB):                7.534\n",
      "Skew:                          -0.219   Prob(JB):                       0.0231\n",
      "Kurtosis:                       5.028   Cond. No.                         123.\n",
      "==============================================================================\n",
      "\n",
      "Warnings:\n",
      "[1] Standard Errors assume that the covariance matrix of the errors is correctly specified.\n"
     ]
    }
   ],
   "source": [
    "print(fitted.summary())"
   ]
  },
  {
   "cell_type": "markdown",
   "metadata": {},
   "source": [
    "## How to incorporate weights"
   ]
  },
  {
   "cell_type": "code",
   "execution_count": 766,
   "metadata": {},
   "outputs": [],
   "source": [
    "weight = 1/uncertainty**2\n",
    "weighted_fit = sm.WLS(y, x_fit, weights=weight).fit()"
   ]
  },
  {
   "cell_type": "code",
   "execution_count": 767,
   "metadata": {},
   "outputs": [
    {
     "name": "stdout",
     "output_type": "stream",
     "text": [
      "[-32.98083995 174.46599787]\n",
      "\n",
      "[110.01289683   9.1583926 ]\n"
     ]
    }
   ],
   "source": [
    "print(weighted_fit.params)\n",
    "print()\n",
    "print(np.sqrt(np.diagonal(weighted_fit.cov_params())))"
   ]
  },
  {
   "cell_type": "code",
   "execution_count": 768,
   "metadata": {},
   "outputs": [
    {
     "name": "stdout",
     "output_type": "stream",
     "text": [
      "                            WLS Regression Results                            \n",
      "==============================================================================\n",
      "Dep. Variable:                      y   R-squared:                       0.901\n",
      "Model:                            WLS   Adj. R-squared:                  0.898\n",
      "Method:                 Least Squares   F-statistic:                     362.9\n",
      "Date:                Fri, 03 Aug 2018   Prob (F-statistic):           1.14e-21\n",
      "Time:                        15:01:38   Log-Likelihood:                -379.71\n",
      "No. Observations:                  42   AIC:                             763.4\n",
      "Df Residuals:                      40   BIC:                             766.9\n",
      "Df Model:                           1                                         \n",
      "Covariance Type:            nonrobust                                         \n",
      "==============================================================================\n",
      "                 coef    std err          t      P>|t|      [0.025      0.975]\n",
      "------------------------------------------------------------------------------\n",
      "const        -32.9808    110.013     -0.300      0.766    -255.325     189.364\n",
      "x1           174.4660      9.158     19.050      0.000     155.956     192.976\n",
      "==============================================================================\n",
      "Omnibus:                       16.959   Durbin-Watson:                   1.427\n",
      "Prob(Omnibus):                  0.000   Jarque-Bera (JB):               19.541\n",
      "Skew:                          -1.489   Prob(JB):                     5.71e-05\n",
      "Kurtosis:                       4.517   Cond. No.                         14.6\n",
      "==============================================================================\n",
      "\n",
      "Warnings:\n",
      "[1] Standard Errors assume that the covariance matrix of the errors is correctly specified.\n"
     ]
    }
   ],
   "source": [
    "print(weighted_fit.summary())"
   ]
  },
  {
   "cell_type": "markdown",
   "metadata": {},
   "source": [
    "More at https://www.statsmodels.org/dev/examples/notebooks/generated/wls.html"
   ]
  },
  {
   "cell_type": "markdown",
   "metadata": {},
   "source": [
    "compare R^2 for each, X^2 for each"
   ]
  },
  {
   "cell_type": "code",
   "execution_count": 769,
   "metadata": {},
   "outputs": [
    {
     "data": {
      "text/plain": [
       "<matplotlib.legend.Legend at 0x1c7898d0>"
      ]
     },
     "execution_count": 769,
     "metadata": {},
     "output_type": "execute_result"
    },
    {
     "data": {
      "image/png": "[encoded data removed]",
      "text/plain": [
       "<Figure size 432x288 with 1 Axes>"
      ]
     },
     "metadata": {},
     "output_type": "display_data"
    }
   ],
   "source": [
    "plt.scatter(x,y,color='black')\n",
    "plt.errorbar(x,y,yerr=uncertainty,fmt='none',label='Experimental Uncertainty')\n",
    "\n",
    "plt.plot(x,linear(x,fitted.params[1],fitted.params[0]),label='OLS')\n",
    "plt.plot(x,linear(x,weighted_fit.params[1],weighted_fit.params[0]),label='WLS')\n",
    "\n",
    "\n",
    "plt.xlabel('x data')\n",
    "plt.ylabel('y data')\n",
    "plt.legend()"
   ]
  },
  {
   "cell_type": "markdown",
   "metadata": {},
   "source": [
    "## Reduced Chi Square Goodness of Fit"
   ]
  },
  {
   "cell_type": "code",
   "execution_count": 770,
   "metadata": {},
   "outputs": [],
   "source": [
    "def reducedChiSquare(observedVector, fittedVector, uncertaintyVector,numberOfParams):\n",
    "    \n",
    "    residuals = observedVector - fittedVector\n",
    "    weightedResiduals = (residuals/uncertaintyVector)**2\n",
    "    \n",
    "    DoF = len(observedVector) - numberOfParams\n",
    "    \n",
    "    chiSq = np.sum(weightedResiduals)\n",
    "    \n",
    "    return chiSq/DoF"
   ]
  },
  {
   "cell_type": "code",
   "execution_count": 771,
   "metadata": {},
   "outputs": [
    {
     "data": {
      "image/png": "[encoded data removed]",
      "text/plain": [
       "<Figure size 432x288 with 1 Axes>"
      ]
     },
     "metadata": {},
     "output_type": "display_data"
    }
   ],
   "source": [
    "numBins = 50\n",
    "\n",
    "z = stats.norm.rvs(0,1,1000)\n",
    "counts, bins, hist = plt.hist(z,bins=numBins)\n",
    "\n",
    "halfWidths = 0.5*(bins[1] - bins[0])\n",
    "centers = bins[:-1] + halfWidths"
   ]
  },
  {
   "cell_type": "markdown",
   "metadata": {},
   "source": [
    "# Fitting a non-linear function"
   ]
  },
  {
   "cell_type": "code",
   "execution_count": 772,
   "metadata": {},
   "outputs": [],
   "source": [
    "def gaussian(x,a,mu,sigma):\n",
    "    return a*np.exp(-.5*(x-mu)**2 / (sigma ** 2) )"
   ]
  },
  {
   "cell_type": "markdown",
   "metadata": {},
   "source": [
    "Our Gaussian requires an amplitude, center, and spread, which we call a,mu, and sigma. We make guesses about what they are to use our fitting algorithm. \n",
    "\n",
    "A reasonable guess for this gaussian is that \"a\" would be the highest mark, the max amount of counts, the center would be close to the average on the x axis, and the spread would be close to the standard deviation as it normally is. \n",
    "\n",
    "Note that these are *guesses* and not exact solutions since this isn't a normalized Gaussian probability density, but a function of the same form."
   ]
  },
  {
   "cell_type": "code",
   "execution_count": 773,
   "metadata": {},
   "outputs": [],
   "source": [
    "parameter_guesses = [np.max(counts),np.mean(bins),np.std(bins)]"
   ]
  },
  {
   "cell_type": "code",
   "execution_count": 774,
   "metadata": {},
   "outputs": [],
   "source": [
    "params, cov = optimize.curve_fit(f=gaussian,xdata=centers,ydata=counts,p0=parameter_guesses)"
   ]
  },
  {
   "cell_type": "code",
   "execution_count": 775,
   "metadata": {},
   "outputs": [
    {
     "data": {
      "text/plain": [
       "array([5.27226126e+01, 4.01810287e-02, 1.02858090e+00])"
      ]
     },
     "execution_count": 775,
     "metadata": {},
     "output_type": "execute_result"
    }
   ],
   "source": [
    "params"
   ]
  },
  {
   "cell_type": "markdown",
   "metadata": {},
   "source": [
    "The covariance matrix is sigma_i sigma_j where i and j are the ith parameter, for example. The diagonal elements give the square of the uncertainty in your fit parameters. These values aren't guaranteed to be well-behaved since the procedure relies on numerical optimization, so be sure to sanity-check your results."
   ]
  },
  {
   "cell_type": "code",
   "execution_count": 776,
   "metadata": {},
   "outputs": [
    {
     "data": {
      "text/plain": [
       "array([[ 1.81247065e+00, -1.78186272e-05, -2.36120645e-02],\n",
       "       [-1.78186272e-05,  9.19437503e-04,  7.80105785e-07],\n",
       "       [-2.36120645e-02,  7.80105785e-07,  9.21569977e-04]])"
      ]
     },
     "execution_count": 776,
     "metadata": {},
     "output_type": "execute_result"
    }
   ],
   "source": [
    "cov"
   ]
  },
  {
   "cell_type": "markdown",
   "metadata": {},
   "source": [
    "Thus the uncertainties we need can be extracted by taking the square root of the diagonal entries of the covariance matrix, like this."
   ]
  },
  {
   "cell_type": "code",
   "execution_count": 777,
   "metadata": {},
   "outputs": [
    {
     "data": {
      "text/plain": [
       "array([1.3462803 , 0.03032223, 0.03035737])"
      ]
     },
     "execution_count": 777,
     "metadata": {},
     "output_type": "execute_result"
    }
   ],
   "source": [
    "uncertaintyArray = np.sqrt(np.diagonal(cov))\n",
    "uncertaintyArray"
   ]
  },
  {
   "cell_type": "code",
   "execution_count": 778,
   "metadata": {},
   "outputs": [],
   "source": [
    "lowerParams, upperParams = params - uncertaintyArray, params + uncertaintyArray"
   ]
  },
  {
   "cell_type": "code",
   "execution_count": 779,
   "metadata": {},
   "outputs": [
    {
     "data": {
      "text/plain": [
       "Text(0.5,1,'Gaussian fit with error')"
      ]
     },
     "execution_count": 779,
     "metadata": {},
     "output_type": "execute_result"
    },
    {
     "data": {
      "image/png": "[encoded data removed]",
      "text/plain": [
       "<Figure size 432x288 with 1 Axes>"
      ]
     },
     "metadata": {},
     "output_type": "display_data"
    }
   ],
   "source": [
    "error= np.sqrt(counts)\n",
    "plt.errorbar(centers,counts,yerr=error,fmt='none',color='orange')\n",
    "_,_, hist = plt.hist(z,bins=numBins,rwidth=.8)\n",
    "\n",
    "\n",
    "xVals = np.linspace(-4,4,150)\n",
    "\n",
    "plt.scatter(xVals, gaussian(xVals,*params), color='black',s=10,label='best fit')\n",
    "\n",
    "plt.scatter(xVals, gaussian(xVals,*lowerParams), color='r',s=10,label='lower bound')\n",
    "plt.scatter(xVals, gaussian(xVals,*upperParams), color='g',s=10,label='upper bound')\n",
    "\n",
    "\n",
    "\n",
    "\n",
    "plt.legend()\n",
    "plt.ylabel('Counts')\n",
    "plt.xlabel('Value')\n",
    "\n",
    "plt.title('Gaussian fit with error')"
   ]
  },
  {
   "cell_type": "code",
   "execution_count": 780,
   "metadata": {},
   "outputs": [
    {
     "data": {
      "image/png": "[encoded data removed]",
      "text/plain": [
       "<Figure size 432x288 with 1 Axes>"
      ]
     },
     "metadata": {},
     "output_type": "display_data"
    }
   ],
   "source": [
    "_,_, hist = plt.hist(gaussian(centers,*params)-counts,bins=numBins,stacked=False)\n",
    "\n",
    "_,_, histlow = plt.hist(gaussian(centers,*lowerParams)-counts,bins=numBins,stacked=False)\n",
    "_,_, histhigh = plt.hist(gaussian(centers,*upperParams)-counts,bins=numBins,stacked=False)"
   ]
  },
  {
   "cell_type": "code",
   "execution_count": null,
   "metadata": {},
   "outputs": [],
   "source": [
    "\n"
   ]
  },
  {
   "cell_type": "code",
   "execution_count": null,
   "metadata": {},
   "outputs": [],
   "source": []
  }
 ],
 "metadata": {
  "kernelspec": {
   "display_name": "Python 3",
   "language": "python",
   "name": "python3"
  }
 },
 "nbformat": 4,
 "nbformat_minor": 2
}
