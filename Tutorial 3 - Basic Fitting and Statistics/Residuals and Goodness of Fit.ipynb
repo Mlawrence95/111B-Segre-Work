{
 "cells": [
  {
   "cell_type": "code",
   "execution_count": 245,
   "metadata": {},
   "outputs": [],
   "source": [
    "import numpy as np\n",
    "import pandas as pd\n",
    "\n",
    "from scipy import stats, optimize\n",
    "import statsmodels.api as sm\n",
    "\n",
    "import matplotlib.pyplot as plt  \n",
    "%matplotlib inline  "
   ]
  },
  {
   "cell_type": "code",
   "execution_count": 246,
   "metadata": {},
   "outputs": [],
   "source": [
    "test_file = 'Circuit data.csv'"
   ]
  },
  {
   "cell_type": "code",
   "execution_count": 247,
   "metadata": {
    "scrolled": true
   },
   "outputs": [],
   "source": [
    "test_table = pd.read_csv(test_file)"
   ]
  },
  {
   "cell_type": "code",
   "execution_count": 257,
   "metadata": {},
   "outputs": [
    {
     "data": {
      "text/html": [
       "<div>\n",
       "<style scoped>\n",
       "    .dataframe tbody tr th:only-of-type {\n",
       "        vertical-align: middle;\n",
       "    }\n",
       "\n",
       "    .dataframe tbody tr th {\n",
       "        vertical-align: top;\n",
       "    }\n",
       "\n",
       "    .dataframe thead th {\n",
       "        text-align: right;\n",
       "    }\n",
       "</style>\n",
       "<table border=\"1\" class=\"dataframe\">\n",
       "  <thead>\n",
       "    <tr style=\"text-align: right;\">\n",
       "      <th></th>\n",
       "      <th>Current (mA)</th>\n",
       "      <th>Voltage (mV)</th>\n",
       "      <th>Calculated Resistance (Ohms)</th>\n",
       "      <th>Uncertainty (+/- 20% mV)</th>\n",
       "    </tr>\n",
       "  </thead>\n",
       "  <tbody>\n",
       "    <tr>\n",
       "      <th>0</th>\n",
       "      <td>58.2</td>\n",
       "      <td>12900.0</td>\n",
       "      <td>221.65</td>\n",
       "      <td>2580.0</td>\n",
       "    </tr>\n",
       "    <tr>\n",
       "      <th>1</th>\n",
       "      <td>77.5</td>\n",
       "      <td>20019.0</td>\n",
       "      <td>258.31</td>\n",
       "      <td>4003.8</td>\n",
       "    </tr>\n",
       "    <tr>\n",
       "      <th>2</th>\n",
       "      <td>36.1</td>\n",
       "      <td>7373.0</td>\n",
       "      <td>204.24</td>\n",
       "      <td>1474.6</td>\n",
       "    </tr>\n",
       "    <tr>\n",
       "      <th>3</th>\n",
       "      <td>87.5</td>\n",
       "      <td>22439.0</td>\n",
       "      <td>256.45</td>\n",
       "      <td>4487.8</td>\n",
       "    </tr>\n",
       "    <tr>\n",
       "      <th>4</th>\n",
       "      <td>52.4</td>\n",
       "      <td>12522.0</td>\n",
       "      <td>238.97</td>\n",
       "      <td>2504.4</td>\n",
       "    </tr>\n",
       "  </tbody>\n",
       "</table>\n",
       "</div>"
      ],
      "text/plain": [
       "   Current (mA)  Voltage (mV)  Calculated Resistance (Ohms)  \\\n",
       "0          58.2       12900.0                        221.65   \n",
       "1          77.5       20019.0                        258.31   \n",
       "2          36.1        7373.0                        204.24   \n",
       "3          87.5       22439.0                        256.45   \n",
       "4          52.4       12522.0                        238.97   \n",
       "\n",
       "   Uncertainty (+/- 20% mV)  \n",
       "0                    2580.0  \n",
       "1                    4003.8  \n",
       "2                    1474.6  \n",
       "3                    4487.8  \n",
       "4                    2504.4  "
      ]
     },
     "execution_count": 257,
     "metadata": {},
     "output_type": "execute_result"
    }
   ],
   "source": [
    "test_table.head()"
   ]
  },
  {
   "cell_type": "code",
   "execution_count": 256,
   "metadata": {
    "scrolled": true
   },
   "outputs": [
    {
     "data": {
      "text/html": [
       "<div>\n",
       "<style scoped>\n",
       "    .dataframe tbody tr th:only-of-type {\n",
       "        vertical-align: middle;\n",
       "    }\n",
       "\n",
       "    .dataframe tbody tr th {\n",
       "        vertical-align: top;\n",
       "    }\n",
       "\n",
       "    .dataframe thead th {\n",
       "        text-align: right;\n",
       "    }\n",
       "</style>\n",
       "<table border=\"1\" class=\"dataframe\">\n",
       "  <thead>\n",
       "    <tr style=\"text-align: right;\">\n",
       "      <th></th>\n",
       "      <th>Current (mA)</th>\n",
       "      <th>Voltage (mV)</th>\n",
       "      <th>Calculated Resistance (Ohms)</th>\n",
       "      <th>Uncertainty (+/- 20% mV)</th>\n",
       "    </tr>\n",
       "  </thead>\n",
       "  <tbody>\n",
       "    <tr>\n",
       "      <th>count</th>\n",
       "      <td>42.000000</td>\n",
       "      <td>42.000000</td>\n",
       "      <td>42.000000</td>\n",
       "      <td>42.000000</td>\n",
       "    </tr>\n",
       "    <tr>\n",
       "      <th>mean</th>\n",
       "      <td>53.419048</td>\n",
       "      <td>10913.357143</td>\n",
       "      <td>197.675714</td>\n",
       "      <td>2182.671429</td>\n",
       "    </tr>\n",
       "    <tr>\n",
       "      <th>std</th>\n",
       "      <td>31.374421</td>\n",
       "      <td>7248.583636</td>\n",
       "      <td>44.084306</td>\n",
       "      <td>1449.716727</td>\n",
       "    </tr>\n",
       "    <tr>\n",
       "      <th>min</th>\n",
       "      <td>2.300000</td>\n",
       "      <td>455.000000</td>\n",
       "      <td>104.190000</td>\n",
       "      <td>91.000000</td>\n",
       "    </tr>\n",
       "    <tr>\n",
       "      <th>25%</th>\n",
       "      <td>23.125000</td>\n",
       "      <td>4465.750000</td>\n",
       "      <td>173.295000</td>\n",
       "      <td>893.150000</td>\n",
       "    </tr>\n",
       "    <tr>\n",
       "      <th>50%</th>\n",
       "      <td>51.500000</td>\n",
       "      <td>10264.000000</td>\n",
       "      <td>200.735000</td>\n",
       "      <td>2052.800000</td>\n",
       "    </tr>\n",
       "    <tr>\n",
       "      <th>75%</th>\n",
       "      <td>86.650000</td>\n",
       "      <td>18330.750000</td>\n",
       "      <td>221.392500</td>\n",
       "      <td>3666.150000</td>\n",
       "    </tr>\n",
       "    <tr>\n",
       "      <th>max</th>\n",
       "      <td>98.200000</td>\n",
       "      <td>25947.000000</td>\n",
       "      <td>291.210000</td>\n",
       "      <td>5189.400000</td>\n",
       "    </tr>\n",
       "  </tbody>\n",
       "</table>\n",
       "</div>"
      ],
      "text/plain": [
       "       Current (mA)  Voltage (mV)  Calculated Resistance (Ohms)  \\\n",
       "count     42.000000     42.000000                     42.000000   \n",
       "mean      53.419048  10913.357143                    197.675714   \n",
       "std       31.374421   7248.583636                     44.084306   \n",
       "min        2.300000    455.000000                    104.190000   \n",
       "25%       23.125000   4465.750000                    173.295000   \n",
       "50%       51.500000  10264.000000                    200.735000   \n",
       "75%       86.650000  18330.750000                    221.392500   \n",
       "max       98.200000  25947.000000                    291.210000   \n",
       "\n",
       "       Uncertainty (+/- 20% mV)  \n",
       "count                 42.000000  \n",
       "mean                2182.671429  \n",
       "std                 1449.716727  \n",
       "min                   91.000000  \n",
       "25%                  893.150000  \n",
       "50%                 2052.800000  \n",
       "75%                 3666.150000  \n",
       "max                 5189.400000  "
      ]
     },
     "execution_count": 256,
     "metadata": {},
     "output_type": "execute_result"
    }
   ],
   "source": [
    "test_table.describe()"
   ]
  },
  {
   "cell_type": "code",
   "execution_count": 44,
   "metadata": {
    "scrolled": true
   },
   "outputs": [
    {
     "data": {
      "text/plain": [
       "array(['Current (mA)', 'Voltage (mV)', 'Calculated Resistance (Ohms)',\n",
       "       'Uncertainty (+/- 20% mV)'], dtype=object)"
      ]
     },
     "execution_count": 44,
     "metadata": {},
     "output_type": "execute_result"
    }
   ],
   "source": [
    "columns = test_table.columns.values\n",
    "columns"
   ]
  },
  {
   "cell_type": "code",
   "execution_count": 45,
   "metadata": {},
   "outputs": [],
   "source": [
    "x = test_table[columns[0]].values\n",
    "y = test_table[columns[1]].values\n",
    "\n",
    "uncertainty = test_table[columns[3]].values"
   ]
  },
  {
   "cell_type": "markdown",
   "metadata": {},
   "source": [
    "## Fitting Linear Models"
   ]
  },
  {
   "cell_type": "code",
   "execution_count": 46,
   "metadata": {},
   "outputs": [
    {
     "data": {
      "text/plain": [
       "<matplotlib.legend.Legend at 0x5582cf8>"
      ]
     },
     "execution_count": 46,
     "metadata": {},
     "output_type": "execute_result"
    },
    {
     "data": {
      "image/png": "[encoded data removed]",
      "text/plain": [
       "<Figure size 432x288 with 1 Axes>"
      ]
     },
     "metadata": {},
     "output_type": "display_data"
    }
   ],
   "source": [
    "plt.scatter(x,y)\n",
    "\n",
    "plt.errorbar(x,y,yerr=uncertainty,fmt='none',label='Experimental Uncertainty',color='orange')\n",
    "\n",
    "\n",
    "plt.xlabel('x data')\n",
    "plt.ylabel('y data')\n",
    "plt.legend(loc=2)"
   ]
  },
  {
   "cell_type": "markdown",
   "metadata": {},
   "source": [
    "# 1) General Approach: Curvefit with specified model (SciPy)"
   ]
  },
  {
   "cell_type": "markdown",
   "metadata": {},
   "source": [
    "The advantage of knowing how to use this is that it extends to any reasonable model you please. This method will work if you need to fit an exponential or gaussian too, for example. All you need to do is create a model as a function of input, like x, and a set of parameters.\n",
    "\n",
    "ex: model(x,p1,p2,p3,...,pn)\n",
    "\n",
    "Once this is specified, you tell optimize.curve_fit what your model is, as well as which x and y data it needs to fit to. If your model is any more complicated than a linear model, you should specify a guess for what the optimal parameters are as well to assist the model in converging. We'll look at an example of this later."
   ]
  },
  {
   "cell_type": "code",
   "execution_count": 119,
   "metadata": {},
   "outputs": [],
   "source": [
    "def linear(x,m,b):\n",
    "    return m*x + b"
   ]
  },
  {
   "cell_type": "code",
   "execution_count": 120,
   "metadata": {},
   "outputs": [
    {
     "data": {
      "text/plain": [
       "(array([ 216.61817733, -658.17956687]), array([ 12.7020236, 784.4989699]))"
      ]
     },
     "execution_count": 120,
     "metadata": {},
     "output_type": "execute_result"
    }
   ],
   "source": [
    "params, cov = optimize.curve_fit(linear,xdata=x,ydata=y)\n",
    "\n",
    "error_on_params = np.sqrt(np.diagonal(cov))\n",
    "\n",
    "params, error_on_params"
   ]
  },
  {
   "cell_type": "markdown",
   "metadata": {},
   "source": [
    "You will get back your model parameters and a covariance matrix for your parameters, which you use to determine the statistical error on your parameters."
   ]
  },
  {
   "cell_type": "code",
   "execution_count": 121,
   "metadata": {},
   "outputs": [
    {
     "name": "stdout",
     "output_type": "stream",
     "text": [
      "The slope, m, is 216.61817732768984 +/- 12.702023595135403.\n",
      "The intercept, b, is -658.1795668707159 +/- 784.4989699000929.\n"
     ]
    }
   ],
   "source": [
    "print('The slope, m, is '+ str(params[0]) +' +/- ' + str(error_on_params[0]) +'.') \n",
    "\n",
    "print('The intercept, b, is ' + str(params[1]) + ' +/- ' + str(error_on_params[1]) + '.')"
   ]
  },
  {
   "cell_type": "markdown",
   "metadata": {},
   "source": [
    "#### Curvefit with weights (non-uniform uncertainty)"
   ]
  },
  {
   "cell_type": "markdown",
   "metadata": {},
   "source": [
    "Say we know that our uncertainty is non-uniform. Suppose, for example, that our uncertainty is 25% of our measures value. We need to perform a weighted fit to account for the various error."
   ]
  },
  {
   "cell_type": "code",
   "execution_count": 224,
   "metadata": {},
   "outputs": [
    {
     "data": {
      "text/plain": [
       "(array([174.46599815, -32.98084895]), array([ 6.70917002, 80.59222165]))"
      ]
     },
     "execution_count": 224,
     "metadata": {},
     "output_type": "execute_result"
    }
   ],
   "source": [
    "weightedParams, weightedCov = optimize.curve_fit(linear,xdata=x,ydata=y,sigma=uncertainty,absolute_sigma=True)\n",
    "\n",
    "error_on_weightedParams = np.sqrt(np.diagonal(weightedCov))\n",
    "\n",
    "weightedParams, error_on_weightedParams"
   ]
  },
  {
   "cell_type": "code",
   "execution_count": 225,
   "metadata": {},
   "outputs": [
    {
     "name": "stdout",
     "output_type": "stream",
     "text": [
      "The slope, m, is 174.4659981547259 +/- 6.709170023962702.\n",
      "The intercept, b, is -32.980848947547884 +/- 80.59222164511817.\n"
     ]
    }
   ],
   "source": [
    "print('The slope, m, is '+ str(weightedParams[0]) +' +/- ' + str(error_on_weightedParams[0]) +'.') \n",
    "\n",
    "print('The intercept, b, is ' + str(weightedParams[1]) + ' +/- ' + str(error_on_weightedParams[1]) + '.')"
   ]
  },
  {
   "cell_type": "markdown",
   "metadata": {},
   "source": [
    "# 2) Using stats' linear regression (SciPy)"
   ]
  },
  {
   "cell_type": "markdown",
   "metadata": {},
   "source": [
    "This support a quick fit for data without using weights. The model outputs various information, including the r value, the fitted parameters, and a covariance matrix for calculating statistical error on your parameters."
   ]
  },
  {
   "cell_type": "code",
   "execution_count": 226,
   "metadata": {},
   "outputs": [
    {
     "data": {
      "text/plain": [
       "LinregressResult(slope=216.61817585904015, intercept=-658.179508508154, rvalue=0.9375996859019955, pvalue=5.939964639280726e-20, stderr=12.702022012919148)"
      ]
     },
     "execution_count": 226,
     "metadata": {},
     "output_type": "execute_result"
    }
   ],
   "source": [
    "sciFit = stats.linregress(x,y)\n",
    "sciFit"
   ]
  },
  {
   "cell_type": "code",
   "execution_count": 227,
   "metadata": {},
   "outputs": [
    {
     "name": "stdout",
     "output_type": "stream",
     "text": [
      "-658.179508508154\n",
      "216.61817585904015\n",
      "\n",
      "[784.49891697  12.70202201]\n"
     ]
    }
   ],
   "source": [
    "print(sciFit.intercept) #best fit intercept\n",
    "print(sciFit.slope) #best fit intercept\n",
    "\n",
    "print()\n",
    "print(np.sqrt(np.diagonal(fitted.cov_params()))) #statistical error on intercept, slope"
   ]
  },
  {
   "cell_type": "markdown",
   "metadata": {},
   "source": [
    "# 3) Using ordinary least squares with summary (Statsmodels)"
   ]
  },
  {
   "cell_type": "code",
   "execution_count": 228,
   "metadata": {},
   "outputs": [],
   "source": [
    "x_fit = sm.add_constant(x)\n",
    "\n",
    "fitted = sm.OLS(y,x_fit).fit()"
   ]
  },
  {
   "cell_type": "code",
   "execution_count": 229,
   "metadata": {},
   "outputs": [
    {
     "data": {
      "text/plain": [
       "(array([-658.17950851,  216.61817586]),\n",
       " array([[ 6.15438551e+05, -8.61870196e+03],\n",
       "        [-8.61870196e+03,  1.61341363e+02]]))"
      ]
     },
     "execution_count": 229,
     "metadata": {},
     "output_type": "execute_result"
    }
   ],
   "source": [
    "fitted.params, fitted.cov_params()"
   ]
  },
  {
   "cell_type": "code",
   "execution_count": 230,
   "metadata": {},
   "outputs": [
    {
     "name": "stdout",
     "output_type": "stream",
     "text": [
      "                            OLS Regression Results                            \n",
      "==============================================================================\n",
      "Dep. Variable:                      y   R-squared:                       0.879\n",
      "Model:                            OLS   Adj. R-squared:                  0.876\n",
      "Method:                 Least Squares   F-statistic:                     290.8\n",
      "Date:                Mon, 06 Aug 2018   Prob (F-statistic):           5.94e-20\n",
      "Time:                        17:55:19   Log-Likelihood:                -388.04\n",
      "No. Observations:                  42   AIC:                             780.1\n",
      "Df Residuals:                      40   BIC:                             783.6\n",
      "Df Model:                           1                                         \n",
      "Covariance Type:            nonrobust                                         \n",
      "==============================================================================\n",
      "                 coef    std err          t      P>|t|      [0.025      0.975]\n",
      "------------------------------------------------------------------------------\n",
      "const       -658.1795    784.499     -0.839      0.406   -2243.711     927.352\n",
      "x1           216.6182     12.702     17.054      0.000     190.946     242.290\n",
      "==============================================================================\n",
      "Omnibus:                        5.917   Durbin-Watson:                   1.359\n",
      "Prob(Omnibus):                  0.052   Jarque-Bera (JB):                7.534\n",
      "Skew:                          -0.219   Prob(JB):                       0.0231\n",
      "Kurtosis:                       5.028   Cond. No.                         123.\n",
      "==============================================================================\n",
      "\n",
      "Warnings:\n",
      "[1] Standard Errors assume that the covariance matrix of the errors is correctly specified.\n"
     ]
    }
   ],
   "source": [
    "print(fitted.summary())"
   ]
  },
  {
   "cell_type": "markdown",
   "metadata": {},
   "source": [
    "#### Statsmodels with weights"
   ]
  },
  {
   "cell_type": "markdown",
   "metadata": {},
   "source": [
    "Defining the weight as the inverse square of the uncertainty means that points which are known with a higher degree of certainty are \"trusted more\" by the model, while points with large degrees of uncertainty don't impact the fit too much."
   ]
  },
  {
   "cell_type": "code",
   "execution_count": 231,
   "metadata": {},
   "outputs": [],
   "source": [
    "weight = 1/uncertainty**2"
   ]
  },
  {
   "cell_type": "code",
   "execution_count": 232,
   "metadata": {},
   "outputs": [],
   "source": [
    "weighted_x_fit = sm.add_constant(x)"
   ]
  },
  {
   "cell_type": "code",
   "execution_count": 233,
   "metadata": {},
   "outputs": [],
   "source": [
    "weighted_fit = sm.WLS(y, weighted_x_fit, weights=weight).fit()"
   ]
  },
  {
   "cell_type": "code",
   "execution_count": 234,
   "metadata": {},
   "outputs": [
    {
     "name": "stdout",
     "output_type": "stream",
     "text": [
      "[-32.98083995 174.46599787]\n",
      "\n",
      "[110.01289683   9.1583926 ]\n"
     ]
    }
   ],
   "source": [
    "print(weighted_fit.params)\n",
    "print()\n",
    "print(np.sqrt(np.diagonal(weighted_fit.cov_params())))"
   ]
  },
  {
   "cell_type": "code",
   "execution_count": 235,
   "metadata": {},
   "outputs": [
    {
     "name": "stdout",
     "output_type": "stream",
     "text": [
      "                            WLS Regression Results                            \n",
      "==============================================================================\n",
      "Dep. Variable:                      y   R-squared:                       0.901\n",
      "Model:                            WLS   Adj. R-squared:                  0.898\n",
      "Method:                 Least Squares   F-statistic:                     362.9\n",
      "Date:                Mon, 06 Aug 2018   Prob (F-statistic):           1.14e-21\n",
      "Time:                        17:55:28   Log-Likelihood:                -379.71\n",
      "No. Observations:                  42   AIC:                             763.4\n",
      "Df Residuals:                      40   BIC:                             766.9\n",
      "Df Model:                           1                                         \n",
      "Covariance Type:            nonrobust                                         \n",
      "==============================================================================\n",
      "                 coef    std err          t      P>|t|      [0.025      0.975]\n",
      "------------------------------------------------------------------------------\n",
      "const        -32.9808    110.013     -0.300      0.766    -255.325     189.364\n",
      "x1           174.4660      9.158     19.050      0.000     155.956     192.976\n",
      "==============================================================================\n",
      "Omnibus:                       16.959   Durbin-Watson:                   1.427\n",
      "Prob(Omnibus):                  0.000   Jarque-Bera (JB):               19.541\n",
      "Skew:                          -1.489   Prob(JB):                     5.71e-05\n",
      "Kurtosis:                       4.517   Cond. No.                         14.6\n",
      "==============================================================================\n",
      "\n",
      "Warnings:\n",
      "[1] Standard Errors assume that the covariance matrix of the errors is correctly specified.\n"
     ]
    }
   ],
   "source": [
    "print(weighted_fit.summary())"
   ]
  },
  {
   "cell_type": "markdown",
   "metadata": {},
   "source": [
    "Go to https://www.statsmodels.org/dev/examples/notebooks/generated/wls.html for more information and examples of use."
   ]
  },
  {
   "cell_type": "markdown",
   "metadata": {},
   "source": [
    "### We've now done the linear fitting problem in 5 different ways - two with weights, three without. \n",
    "\n",
    "### Let's compare the results graphically."
   ]
  },
  {
   "cell_type": "code",
   "execution_count": 236,
   "metadata": {},
   "outputs": [
    {
     "data": {
      "text/plain": [
       "<matplotlib.legend.Legend at 0xd3a32b0>"
      ]
     },
     "execution_count": 236,
     "metadata": {},
     "output_type": "execute_result"
    },
    {
     "data": {
      "image/png": "[encoded data removed]",
      "text/plain": [
       "<Figure size 432x288 with 1 Axes>"
      ]
     },
     "metadata": {},
     "output_type": "display_data"
    }
   ],
   "source": [
    "#scatter the raw data and its error\n",
    "plt.scatter(x,y,color='black')\n",
    "plt.errorbar(x,y,yerr=uncertainty,fmt='none',label='Experimental Uncertainty')\n",
    "\n",
    "\n",
    "#####################################################################################################\n",
    "#####################       Various fitting methods compared  #######################################\n",
    "#####################################################################################################\n",
    "\n",
    "#ordinary least squares with scipy curvefit\n",
    "plt.plot(x,linear(x,*params),label='OLS with SciPy Curvefit')\n",
    "\n",
    "#weighted least squares with scipy curvefit\n",
    "plt.plot(x,linear(x,*weightedParams),label='WLS with SciPy Curvefit')\n",
    "\n",
    "#ordinary least squares with stats.linregress\n",
    "plt.plot(x,linear(x,sciFit.slope,sciFit.intercept),label='OLS with stats.linregress')\n",
    "\n",
    "#ordinary least squares in statsmodels\n",
    "plt.plot(x,linear(x,fitted.params[1],fitted.params[0]),label='OLS in Statsmodels')\n",
    "\n",
    "#weighted least squares in statsmodels \n",
    "plt.plot(x,linear(x,weighted_fit.params[1],weighted_fit.params[0]),label='WLS in Statsmodels')\n",
    "\n",
    "\n",
    "\n",
    "#####################################################################################################\n",
    "\n",
    "#####################################################################################################\n",
    "\n",
    "\n",
    "\n",
    "plt.xlabel('x data')\n",
    "plt.ylabel('y data')\n",
    "plt.legend()"
   ]
  },
  {
   "cell_type": "markdown",
   "metadata": {},
   "source": [
    "Perhaps unsurprisingly, no matter the package used, the weighted and unweighted methods gave exactly the same solutions."
   ]
  },
  {
   "cell_type": "markdown",
   "metadata": {},
   "source": [
    "How can we quantify if our model is a good fit? There are many metrics for \"goodness of fit\", whether that be R^2, a reduced chi-square test, or otherwise. Since most of these models yield R^2, let's see how we'd calculate the reduced chi-square value. \n",
    "\n",
    "First, let's define the chi-square per degree of freedom, or reduced chi-square.\n",
    "\n",
    "$$\\frac{\\chi ^{2}}{df} = \\frac{1}{N-\\nu}\\sum_{i=1}^{N} \\frac{[y_{i} - f(x_{i};\\hat{\\theta})]^{2}}{\\sigma_{i}^{2}}$$\n",
    "\n",
    "where $\\nu$ is the number of parameters in your model (two for linear models, slope and intercept), $\\sigma_{i}$ is the uncertainty in i-th measurement, $y_{i}$ is the i-th measured y value, and $f(x_{i};\\hat{\\theta})$ is your fitted function evaluated at the i-th x value with your fitted parameters, $\\hat{\\theta}$. N is, of course, the number of data points you have. Note that $N-\\nu$ is what's referred to as the degrees of freedom.\n",
    "\n",
    "Heuristically speaking, this sum is something like comparing the variance between the fitted values and the measured values with the variance that you're expecting, $\\sigma_{i}^{2}$. \n",
    "\n",
    "Because of this, a good $\\frac{\\chi^{2}}{df}$ value is very close to 1. If you underestimate the uncertainty in your measurements, this statistic will be greater than 1 by a significant amount. If you overestimate the uncertainty in your measurements, the statistic will be considerably smaller than 1.\n",
    "\n",
    "Let's now calculate each piece of this sum for a WLS example and combine them to get the reduced chi square."
   ]
  },
  {
   "cell_type": "code",
   "execution_count": 239,
   "metadata": {},
   "outputs": [
    {
     "data": {
      "text/plain": [
       "(array([58.2, 77.5, 36.1, 87.5, 52.4, 11.4, 89.1,  8. ,  4.5, 47.5, 97. ,\n",
       "         9.7, 94.6, 50.6, 24.4, 60.4, 18.8,  8.4, 42.8, 48.1, 35.2, 84. ,\n",
       "        55.1, 19.6,  2.3, 98.2, 13. , 64.5, 91.6, 90.4, 44.3, 96.3, 64.5,\n",
       "        22.3, 52.5, 87.2, 49.8, 91.8, 50.6, 95.7, 22.7, 85. ]),\n",
       " array([12900., 20019.,  7373., 22439., 12522.,  2605., 25947.,  1680.,\n",
       "          873., 11400., 18386.,  1011., 20492., 10377.,  6762., 10261.,\n",
       "         2142.,  1416.,  7830., 10267.,  7766., 19486., 13135.,  3837.,\n",
       "          455., 21545.,  2211.,  9678., 18514., 22279.,  9388., 18198.,\n",
       "        10673.,  4197.,  6461., 18375.,  9548., 11647.,  5272., 18952.,\n",
       "         3097., 16945.]),\n",
       " array([2580. , 4003.8, 1474.6, 4487.8, 2504.4,  521. , 5189.4,  336. ,\n",
       "         174.6, 2280. , 3677.2,  202.2, 4098.4, 2075.4, 1352.4, 2052.2,\n",
       "         428.4,  283.2, 1566. , 2053.4, 1553.2, 3897.2, 2627. ,  767.4,\n",
       "          91. , 4309. ,  442.2, 1935.6, 3702.8, 4455.8, 1877.6, 3639.6,\n",
       "        2134.6,  839.4, 1292.2, 3675. , 1909.6, 2329.4, 1054.4, 3790.4,\n",
       "         619.4, 3389. ]))"
      ]
     },
     "execution_count": 239,
     "metadata": {},
     "output_type": "execute_result"
    }
   ],
   "source": [
    "x, y, uncertainty"
   ]
  },
  {
   "cell_type": "code",
   "execution_count": 240,
   "metadata": {},
   "outputs": [],
   "source": [
    "f = linear(x,*weightedParams)"
   ]
  },
  {
   "cell_type": "code",
   "execution_count": 241,
   "metadata": {
    "scrolled": true
   },
   "outputs": [],
   "source": [
    "numerator = (y - f)**2"
   ]
  },
  {
   "cell_type": "code",
   "execution_count": 242,
   "metadata": {},
   "outputs": [],
   "source": [
    "denominator = uncertainty**2"
   ]
  },
  {
   "cell_type": "code",
   "execution_count": 243,
   "metadata": {},
   "outputs": [
    {
     "data": {
      "text/plain": [
       "40"
      ]
     },
     "execution_count": 243,
     "metadata": {},
     "output_type": "execute_result"
    }
   ],
   "source": [
    "dof = len(x) - len(weightedParams)\n",
    "dof"
   ]
  },
  {
   "cell_type": "code",
   "execution_count": 244,
   "metadata": {},
   "outputs": [
    {
     "data": {
      "text/plain": [
       "1.863377542121953"
      ]
     },
     "execution_count": 244,
     "metadata": {},
     "output_type": "execute_result"
    }
   ],
   "source": [
    "np.sum(numerator/denominator)/dof"
   ]
  },
  {
   "cell_type": "markdown",
   "metadata": {},
   "source": [
    "## Reduced Chi Square Goodness of Fit"
   ]
  },
  {
   "cell_type": "code",
   "execution_count": 20,
   "metadata": {},
   "outputs": [],
   "source": [
    "def reducedChiSquare(observedVector, fittedVector, uncertaintyVector,numberOfParams):\n",
    "    \n",
    "    residuals = observedVector - fittedVector\n",
    "    weightedResiduals = (residuals/uncertaintyVector)**2\n",
    "    \n",
    "    DoF = len(observedVector) - numberOfParams\n",
    "    \n",
    "    chiSq = np.sum(weightedResiduals)\n",
    "    \n",
    "    return chiSq/DoF"
   ]
  },
  {
   "cell_type": "markdown",
   "metadata": {},
   "source": [
    "# Fitting a non-linear function"
   ]
  },
  {
   "cell_type": "markdown",
   "metadata": {},
   "source": [
    "Suppose we have normally distributed data like below, and we wish to fit a Gaussian to it."
   ]
  },
  {
   "cell_type": "code",
   "execution_count": 161,
   "metadata": {},
   "outputs": [
    {
     "data": {
      "image/png": "[encoded data removed]",
      "text/plain": [
       "<Figure size 432x288 with 1 Axes>"
      ]
     },
     "metadata": {},
     "output_type": "display_data"
    }
   ],
   "source": [
    "numBins = 50\n",
    "\n",
    "randomValues = stats.norm.rvs(0,1,1000)\n",
    "counts, bins, hist = plt.hist(randomValues,bins=numBins)\n",
    "\n",
    "halfWidths = 0.5*(bins[1] - bins[0])\n",
    "centers = bins[:-1] + halfWidths"
   ]
  },
  {
   "cell_type": "code",
   "execution_count": 162,
   "metadata": {},
   "outputs": [],
   "source": [
    "def gaussian(x,a,mu,sigma):\n",
    "    return a*np.exp(-.5*(x-mu)**2 / (sigma ** 2) )"
   ]
  },
  {
   "cell_type": "markdown",
   "metadata": {},
   "source": [
    "Our Gaussian requires an amplitude, center, and spread, which we call a,mu, and sigma. We make guesses about what they are to use our fitting algorithm. \n",
    "\n",
    "A reasonable guess for this gaussian is that \"a\" would be the highest mark, the max amount of counts, the center would be close to the average on the x axis, and the spread would be close to the standard deviation as it normally is. \n",
    "\n",
    "Note that these are *guesses* and not exact solutions since this isn't a normalized Gaussian probability density, but a function of the same form."
   ]
  },
  {
   "cell_type": "code",
   "execution_count": 163,
   "metadata": {},
   "outputs": [],
   "source": [
    "parameter_guesses = [np.max(counts),np.mean(centers),np.std(centers)]"
   ]
  },
  {
   "cell_type": "code",
   "execution_count": 164,
   "metadata": {},
   "outputs": [],
   "source": [
    "gaussParams, gaussCov = optimize.curve_fit(f=gaussian,xdata=centers,ydata=counts,p0=parameter_guesses)"
   ]
  },
  {
   "cell_type": "code",
   "execution_count": 165,
   "metadata": {},
   "outputs": [
    {
     "data": {
      "text/plain": [
       "array([ 5.21714801e+01, -2.79084754e-02,  9.90085145e-01])"
      ]
     },
     "execution_count": 165,
     "metadata": {},
     "output_type": "execute_result"
    }
   ],
   "source": [
    "gaussParams"
   ]
  },
  {
   "cell_type": "markdown",
   "metadata": {},
   "source": [
    "The covariance matrix is $\\sigma_{i}\\sigma_{j}$ where i and j represent the i-th parameter in the given model. For example, the gaussian model has parameters a, mu, and sigma, corresponding to i = {1,2,3}.\n",
    "\n",
    "The diagonal elements give the square of the uncertainty in your fit parameters,  $[\\sigma_{a}^{2}, \\sigma_{\\mu}^{2},\\sigma_{\\sigma}^{2}]$.These values aren't guaranteed to be well-behaved since the procedure relies on numerical optimization, so be sure to sanity-check your results."
   ]
  },
  {
   "cell_type": "code",
   "execution_count": 166,
   "metadata": {},
   "outputs": [
    {
     "data": {
      "text/plain": [
       "array([[ 2.85321344e+00, -6.54935423e-06, -3.61232425e-02],\n",
       "       [-6.54935423e-06,  1.36981140e-03,  2.76038263e-07],\n",
       "       [-3.61232425e-02,  2.76038263e-07,  1.37119264e-03]])"
      ]
     },
     "execution_count": 166,
     "metadata": {},
     "output_type": "execute_result"
    }
   ],
   "source": [
    "gaussCov"
   ]
  },
  {
   "cell_type": "markdown",
   "metadata": {},
   "source": [
    "Thus the uncertainties we need can be extracted by taking the square root of the diagonal entries of the covariance matrix just like before in the linear case."
   ]
  },
  {
   "cell_type": "code",
   "execution_count": 167,
   "metadata": {},
   "outputs": [
    {
     "data": {
      "text/plain": [
       "array([1.68914577, 0.03701096, 0.03702962])"
      ]
     },
     "execution_count": 167,
     "metadata": {},
     "output_type": "execute_result"
    }
   ],
   "source": [
    "uncertaintyArray = np.sqrt( np.diagonal(gaussCov) )\n",
    "uncertaintyArray"
   ]
  },
  {
   "cell_type": "code",
   "execution_count": 169,
   "metadata": {},
   "outputs": [
    {
     "data": {
      "text/plain": [
       "Text(0.5,1,'Gaussian fit with error')"
      ]
     },
     "execution_count": 169,
     "metadata": {},
     "output_type": "execute_result"
    },
    {
     "data": {
      "image/png": "[encoded data removed]",
      "text/plain": [
       "<Figure size 432x288 with 1 Axes>"
      ]
     },
     "metadata": {},
     "output_type": "display_data"
    }
   ],
   "source": [
    "error= np.sqrt(counts)\n",
    "plt.errorbar(centers,counts,yerr=error,fmt='none',color='orange')\n",
    "\n",
    "_,_, hist = plt.hist(randomValues,bins=numBins,rwidth=.8)\n",
    "\n",
    "xVals = np.linspace(-4,4,150)\n",
    "plt.scatter(xVals, gaussian(xVals,*gaussParams), color='black',s=10,label='best fit')\n",
    "\n",
    "plt.legend()\n",
    "plt.ylabel('Counts')\n",
    "plt.xlabel('Value')\n",
    "plt.title('Gaussian fit with error')"
   ]
  }
 ],
 "metadata": {
  "kernelspec": {
   "display_name": "Python 3",
   "language": "python",
   "name": "python3"
  },
  "language_info": {
   "codemirror_mode": {
    "name": "ipython",
    "version": 3
   },
   "file_extension": ".py",
   "mimetype": "text/x-python",
   "name": "python",
   "nbconvert_exporter": "python",
   "pygments_lexer": "ipython3",
   "version": "3.6.5"
  }
 },
 "nbformat": 4,
 "nbformat_minor": 2
}
