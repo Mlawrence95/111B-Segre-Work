{
 "cells": [
  {
   "cell_type": "code",
   "execution_count": 30,
   "metadata": {},
   "outputs": [],
   "source": [
    "import numpy as np\n",
    "import pandas as pd\n",
    "\n",
    "from scipy import stats, optimize\n",
    "import statsmodels.api as sm\n",
    "\n",
    "import matplotlib.pyplot as plt  \n",
    "%matplotlib inline  "
   ]
  },
  {
   "cell_type": "markdown",
   "metadata": {},
   "source": [
    "### Import Data"
   ]
  },
  {
   "cell_type": "code",
   "execution_count": 86,
   "metadata": {},
   "outputs": [
    {
     "data": {
      "text/plain": [
       "['Circuit data.csv',\n",
       " 'Linear weighted data generator.ipynb',\n",
       " '.DS_Store',\n",
       " 'Residuals and Goodness of Fit.ipynb',\n",
       " 'Monday data.csv',\n",
       " '.ipynb_checkpoints']"
      ]
     },
     "execution_count": 86,
     "metadata": {},
     "output_type": "execute_result"
    }
   ],
   "source": [
    "# check what files are valid for importing\n",
    "os.listdir()"
   ]
  },
  {
   "cell_type": "code",
   "execution_count": 87,
   "metadata": {},
   "outputs": [],
   "source": [
    "# assign your file a name to keep things readable\n",
    "test_file = 'Circuit data.csv'"
   ]
  },
  {
   "cell_type": "code",
   "execution_count": 88,
   "metadata": {
    "scrolled": true
   },
   "outputs": [],
   "source": [
    "#import the data as a pandas dataframe (a table)\n",
    "test_table = pd.read_csv(test_file)"
   ]
  },
  {
   "cell_type": "code",
   "execution_count": 89,
   "metadata": {},
   "outputs": [
    {
     "data": {
      "text/html": [
       "<div>\n",
       "<style scoped>\n",
       "    .dataframe tbody tr th:only-of-type {\n",
       "        vertical-align: middle;\n",
       "    }\n",
       "\n",
       "    .dataframe tbody tr th {\n",
       "        vertical-align: top;\n",
       "    }\n",
       "\n",
       "    .dataframe thead th {\n",
       "        text-align: right;\n",
       "    }\n",
       "</style>\n",
       "<table border=\"1\" class=\"dataframe\">\n",
       "  <thead>\n",
       "    <tr style=\"text-align: right;\">\n",
       "      <th></th>\n",
       "      <th>Current (mA)</th>\n",
       "      <th>Voltage (mV)</th>\n",
       "      <th>Calculated Resistance (Ohms)</th>\n",
       "      <th>Uncertainty (+/- 20% mV)</th>\n",
       "    </tr>\n",
       "  </thead>\n",
       "  <tbody>\n",
       "    <tr>\n",
       "      <th>0</th>\n",
       "      <td>58.2</td>\n",
       "      <td>12900.0</td>\n",
       "      <td>221.65</td>\n",
       "      <td>2580.0</td>\n",
       "    </tr>\n",
       "    <tr>\n",
       "      <th>1</th>\n",
       "      <td>77.5</td>\n",
       "      <td>20019.0</td>\n",
       "      <td>258.31</td>\n",
       "      <td>4003.8</td>\n",
       "    </tr>\n",
       "    <tr>\n",
       "      <th>2</th>\n",
       "      <td>36.1</td>\n",
       "      <td>7373.0</td>\n",
       "      <td>204.24</td>\n",
       "      <td>1474.6</td>\n",
       "    </tr>\n",
       "    <tr>\n",
       "      <th>3</th>\n",
       "      <td>87.5</td>\n",
       "      <td>22439.0</td>\n",
       "      <td>256.45</td>\n",
       "      <td>4487.8</td>\n",
       "    </tr>\n",
       "    <tr>\n",
       "      <th>4</th>\n",
       "      <td>52.4</td>\n",
       "      <td>12522.0</td>\n",
       "      <td>238.97</td>\n",
       "      <td>2504.4</td>\n",
       "    </tr>\n",
       "  </tbody>\n",
       "</table>\n",
       "</div>"
      ],
      "text/plain": [
       "   Current (mA)  Voltage (mV)  Calculated Resistance (Ohms)  \\\n",
       "0          58.2       12900.0                        221.65   \n",
       "1          77.5       20019.0                        258.31   \n",
       "2          36.1        7373.0                        204.24   \n",
       "3          87.5       22439.0                        256.45   \n",
       "4          52.4       12522.0                        238.97   \n",
       "\n",
       "   Uncertainty (+/- 20% mV)  \n",
       "0                    2580.0  \n",
       "1                    4003.8  \n",
       "2                    1474.6  \n",
       "3                    4487.8  \n",
       "4                    2504.4  "
      ]
     },
     "execution_count": 89,
     "metadata": {},
     "output_type": "execute_result"
    }
   ],
   "source": [
    "#this shows the first few rows of the dataframe \n",
    "test_table.head()"
   ]
  },
  {
   "cell_type": "code",
   "execution_count": 90,
   "metadata": {
    "scrolled": true
   },
   "outputs": [
    {
     "data": {
      "text/html": [
       "<div>\n",
       "<style scoped>\n",
       "    .dataframe tbody tr th:only-of-type {\n",
       "        vertical-align: middle;\n",
       "    }\n",
       "\n",
       "    .dataframe tbody tr th {\n",
       "        vertical-align: top;\n",
       "    }\n",
       "\n",
       "    .dataframe thead th {\n",
       "        text-align: right;\n",
       "    }\n",
       "</style>\n",
       "<table border=\"1\" class=\"dataframe\">\n",
       "  <thead>\n",
       "    <tr style=\"text-align: right;\">\n",
       "      <th></th>\n",
       "      <th>Current (mA)</th>\n",
       "      <th>Voltage (mV)</th>\n",
       "      <th>Calculated Resistance (Ohms)</th>\n",
       "      <th>Uncertainty (+/- 20% mV)</th>\n",
       "    </tr>\n",
       "  </thead>\n",
       "  <tbody>\n",
       "    <tr>\n",
       "      <th>count</th>\n",
       "      <td>42.000000</td>\n",
       "      <td>42.000000</td>\n",
       "      <td>42.000000</td>\n",
       "      <td>42.000000</td>\n",
       "    </tr>\n",
       "    <tr>\n",
       "      <th>mean</th>\n",
       "      <td>53.419048</td>\n",
       "      <td>10913.357143</td>\n",
       "      <td>197.675714</td>\n",
       "      <td>2182.671429</td>\n",
       "    </tr>\n",
       "    <tr>\n",
       "      <th>std</th>\n",
       "      <td>31.374421</td>\n",
       "      <td>7248.583636</td>\n",
       "      <td>44.084306</td>\n",
       "      <td>1449.716727</td>\n",
       "    </tr>\n",
       "    <tr>\n",
       "      <th>min</th>\n",
       "      <td>2.300000</td>\n",
       "      <td>455.000000</td>\n",
       "      <td>104.190000</td>\n",
       "      <td>91.000000</td>\n",
       "    </tr>\n",
       "    <tr>\n",
       "      <th>25%</th>\n",
       "      <td>23.125000</td>\n",
       "      <td>4465.750000</td>\n",
       "      <td>173.295000</td>\n",
       "      <td>893.150000</td>\n",
       "    </tr>\n",
       "    <tr>\n",
       "      <th>50%</th>\n",
       "      <td>51.500000</td>\n",
       "      <td>10264.000000</td>\n",
       "      <td>200.735000</td>\n",
       "      <td>2052.800000</td>\n",
       "    </tr>\n",
       "    <tr>\n",
       "      <th>75%</th>\n",
       "      <td>86.650000</td>\n",
       "      <td>18330.750000</td>\n",
       "      <td>221.392500</td>\n",
       "      <td>3666.150000</td>\n",
       "    </tr>\n",
       "    <tr>\n",
       "      <th>max</th>\n",
       "      <td>98.200000</td>\n",
       "      <td>25947.000000</td>\n",
       "      <td>291.210000</td>\n",
       "      <td>5189.400000</td>\n",
       "    </tr>\n",
       "  </tbody>\n",
       "</table>\n",
       "</div>"
      ],
      "text/plain": [
       "       Current (mA)  Voltage (mV)  Calculated Resistance (Ohms)  \\\n",
       "count     42.000000     42.000000                     42.000000   \n",
       "mean      53.419048  10913.357143                    197.675714   \n",
       "std       31.374421   7248.583636                     44.084306   \n",
       "min        2.300000    455.000000                    104.190000   \n",
       "25%       23.125000   4465.750000                    173.295000   \n",
       "50%       51.500000  10264.000000                    200.735000   \n",
       "75%       86.650000  18330.750000                    221.392500   \n",
       "max       98.200000  25947.000000                    291.210000   \n",
       "\n",
       "       Uncertainty (+/- 20% mV)  \n",
       "count                 42.000000  \n",
       "mean                2182.671429  \n",
       "std                 1449.716727  \n",
       "min                   91.000000  \n",
       "25%                  893.150000  \n",
       "50%                 2052.800000  \n",
       "75%                 3666.150000  \n",
       "max                 5189.400000  "
      ]
     },
     "execution_count": 90,
     "metadata": {},
     "output_type": "execute_result"
    }
   ],
   "source": [
    "#some figures on the table. Varying level of usefulness depending on dataset\n",
    "test_table.describe()"
   ]
  },
  {
   "cell_type": "code",
   "execution_count": 91,
   "metadata": {
    "scrolled": true
   },
   "outputs": [
    {
     "data": {
      "text/plain": [
       "array(['Current (mA)', 'Voltage (mV)', 'Calculated Resistance (Ohms)',\n",
       "       'Uncertainty (+/- 20% mV)'], dtype=object)"
      ]
     },
     "execution_count": 91,
     "metadata": {},
     "output_type": "execute_result"
    }
   ],
   "source": [
    "# gets the column names as a numpy array to allow accessing \n",
    "# each name by index\n",
    "columns = test_table.columns.values\n",
    "columns"
   ]
  },
  {
   "cell_type": "code",
   "execution_count": 92,
   "metadata": {},
   "outputs": [],
   "source": [
    "current = test_table[columns[0]].values # column 0 is the first column, voltage\n",
    "voltage = test_table[columns[1]].values # values converts it to a numpy array\n",
    "\n",
    "uncertainty = test_table[columns[3]].values"
   ]
  },
  {
   "cell_type": "markdown",
   "metadata": {},
   "source": [
    "# Fitting Linear Models"
   ]
  },
  {
   "cell_type": "code",
   "execution_count": 127,
   "metadata": {},
   "outputs": [
    {
     "data": {
      "text/plain": [
       "Text(0.5,1,'Raw data with no fit')"
      ]
     },
     "execution_count": 127,
     "metadata": {},
     "output_type": "execute_result"
    },
    {
     "data": {
      "image/png": "[encoded data removed]",
      "text/plain": [
       "<matplotlib.figure.Figure at 0x1c1f76e8d0>"
      ]
     },
     "metadata": {},
     "output_type": "display_data"
    }
   ],
   "source": [
    "#visualize the data\n",
    "plt.scatter(current,voltage)\n",
    "\n",
    "#draw errorbars the size of the \"uncertainty\" values\n",
    "plt.errorbar(current,voltage,yerr=uncertainty,fmt='none',label='Experimental Uncertainty',color='orange')\n",
    "\n",
    "\n",
    "plt.xlabel('current (mA)')\n",
    "plt.ylabel('voltage (mA)')\n",
    "plt.legend(loc=2)\n",
    "plt.title('Raw data with no fit')"
   ]
  },
  {
   "cell_type": "markdown",
   "metadata": {},
   "source": [
    "## 1) General Approach: Curvefit with specified model (OLS and WLS in SciPy)"
   ]
  },
  {
   "cell_type": "markdown",
   "metadata": {},
   "source": [
    "The advantage of knowing how to use this is that it extends to any reasonable model you please. This method will work if you need to fit an exponential or gaussian too, for example. All you need to do is create a model as a function of input, like x, and a set of parameters.\n",
    "\n",
    "ex: model(x,p1,p2,p3,...,pn)\n",
    "\n",
    "Once this is specified, you tell optimize.curve_fit what your model is, as well as which x and y data it needs to fit to. If your model is any more complicated than a linear model, you should specify a guess for what the optimal parameters are as well to assist the model in converging. We'll look at an example of this later."
   ]
  },
  {
   "cell_type": "code",
   "execution_count": 117,
   "metadata": {},
   "outputs": [],
   "source": [
    "#define a linear function, y=mx+b, to fit to data\n",
    "def linear(x,m,b):\n",
    "    return m*x + b"
   ]
  },
  {
   "cell_type": "code",
   "execution_count": 118,
   "metadata": {},
   "outputs": [
    {
     "data": {
      "text/plain": [
       "(array([ 216.61817733, -658.17956687]), array([  12.7020236,  784.4989699]))"
      ]
     },
     "execution_count": 118,
     "metadata": {},
     "output_type": "execute_result"
    }
   ],
   "source": [
    "#optimize returns the best fit parameters and the covariance matrix for them\n",
    "#given the model you want to fit (a function you define) and the data\n",
    "\n",
    "#Ordinary least squares \n",
    "params, cov = optimize.curve_fit(linear,xdata=current,ydata=voltage) \n",
    "                                                                    \n",
    "\n",
    "#the diagonal entries of the covariance matrix are the variance\n",
    "#for each fitted parameter. The square root of them gives their statistical error\n",
    "error_on_params = np.sqrt(np.diagonal(cov))\n",
    "\n",
    "params, error_on_params"
   ]
  },
  {
   "cell_type": "markdown",
   "metadata": {},
   "source": [
    "You will get back your model parameters and a covariance matrix for your parameters, which you use to determine the statistical error on your parameters."
   ]
  },
  {
   "cell_type": "code",
   "execution_count": 119,
   "metadata": {},
   "outputs": [
    {
     "name": "stdout",
     "output_type": "stream",
     "text": [
      "The slope, m, is 216.618177328 +/- 12.7020235951.\n",
      "The intercept, b, is -658.179566871 +/- 784.4989699.\n"
     ]
    }
   ],
   "source": [
    "#this cell is mostly for looks... the same information is available above\n",
    "print('The slope, m, is '+ str(params[0]) +' +/- ' + str(error_on_params[0]) +'.') \n",
    "print('The intercept, b, is ' + str(params[1]) + ' +/- ' + str(error_on_params[1]) + '.')"
   ]
  },
  {
   "cell_type": "code",
   "execution_count": 129,
   "metadata": {},
   "outputs": [
    {
     "data": {
      "text/plain": [
       "Text(0.5,1,'OLS fit with SciPy Curvefit')"
      ]
     },
     "execution_count": 129,
     "metadata": {},
     "output_type": "execute_result"
    },
    {
     "data": {
      "image/png": "[encoded data removed]",
      "text/plain": [
       "<matplotlib.figure.Figure at 0x1c206e4cc0>"
      ]
     },
     "metadata": {},
     "output_type": "display_data"
    }
   ],
   "source": [
    "plt.scatter(current,voltage)\n",
    "plt.errorbar(current,voltage,yerr=uncertainty,fmt='none',label='Experimental Uncertainty',color='orange')\n",
    "\n",
    "plt.plot(current,linear(current,params[0],params[1]))\n",
    "\n",
    "plt.xlabel('current (mA)')\n",
    "plt.ylabel('voltage (mA)')\n",
    "plt.legend(loc=2)\n",
    "\n",
    "plt.title('OLS fit with SciPy Curvefit')"
   ]
  },
  {
   "cell_type": "markdown",
   "metadata": {},
   "source": [
    "#### Curvefit with weights (non-uniform uncertainty -- WLS)"
   ]
  },
  {
   "cell_type": "markdown",
   "metadata": {},
   "source": [
    "Say we know that our uncertainty is non-uniform. Suppose, for example, that we guess that our uncertainty is 20% of our measured value, as displayed in our original dataset. We need to perform a weighted fit to account for the various error. Optimize's curve_fit allows users to input a vector of uncertainties to perform a weighted fit."
   ]
  },
  {
   "cell_type": "code",
   "execution_count": 120,
   "metadata": {},
   "outputs": [
    {
     "data": {
      "text/plain": [
       "(array([ 174.46599815,  -32.98084895]), array([  6.70917002,  80.59222165]))"
      ]
     },
     "execution_count": 120,
     "metadata": {},
     "output_type": "execute_result"
    }
   ],
   "source": [
    "#notice the sigma and absolute sigma in the function below.\n",
    "#sigma is standard notation for standard deviation, which is more or less\n",
    "#equivalent to uncertainty in measurements for our purposes\n",
    "\n",
    "weightedParams, weightedCov = optimize.curve_fit(linear,xdata=current,ydata=voltage,\n",
    "                                                 sigma=uncertainty,absolute_sigma=True) \n",
    "\n",
    "error_on_weightedParams = np.sqrt(np.diagonal(weightedCov))\n",
    "\n",
    "weightedParams, error_on_weightedParams"
   ]
  },
  {
   "cell_type": "code",
   "execution_count": 121,
   "metadata": {},
   "outputs": [
    {
     "name": "stdout",
     "output_type": "stream",
     "text": [
      "The slope, m, is 174.465998155 +/- 6.70917002396.\n",
      "The intercept, b, is -32.9808489475 +/- 80.5922216451.\n"
     ]
    }
   ],
   "source": [
    "print('The slope, m, is '+ str(weightedParams[0]) +' +/- ' + str(error_on_weightedParams[0]) +'.') \n",
    "\n",
    "print('The intercept, b, is ' + str(weightedParams[1]) + ' +/- ' + str(error_on_weightedParams[1]) + '.')"
   ]
  },
  {
   "cell_type": "code",
   "execution_count": 130,
   "metadata": {},
   "outputs": [
    {
     "data": {
      "text/plain": [
       "Text(0.5,1,'WLS fit with SciPy Curvefit')"
      ]
     },
     "execution_count": 130,
     "metadata": {},
     "output_type": "execute_result"
    },
    {
     "data": {
      "image/png": "[encoded data removed]",
      "text/plain": [
       "<matplotlib.figure.Figure at 0x1c1f959ef0>"
      ]
     },
     "metadata": {},
     "output_type": "display_data"
    }
   ],
   "source": [
    "plt.scatter(current,voltage)\n",
    "plt.errorbar(current,voltage,yerr=uncertainty,fmt='none',label='Experimental Uncertainty',color='orange')\n",
    "\n",
    "plt.plot(current,linear(current,weightedParams[0],weightedParams[1]))\n",
    "\n",
    "plt.xlabel('current (mA)')\n",
    "plt.ylabel('voltage (mA)')\n",
    "plt.legend(loc=2)\n",
    "\n",
    "plt.title('WLS fit with SciPy Curvefit')"
   ]
  },
  {
   "cell_type": "markdown",
   "metadata": {},
   "source": [
    "## 2) Using SciPy Stats' linear regression (OLS in SciPy)"
   ]
  },
  {
   "cell_type": "markdown",
   "metadata": {},
   "source": [
    "This support a quick fit for data without using weights. The model outputs various information, including the r value, the fitted parameters, and a covariance matrix for calculating statistical error on your parameters."
   ]
  },
  {
   "cell_type": "code",
   "execution_count": 124,
   "metadata": {},
   "outputs": [
    {
     "data": {
      "text/plain": [
       "LinregressResult(slope=216.61817585904015, intercept=-658.17950850815396, rvalue=0.93759968590199549, pvalue=5.9399646392807262e-20, stderr=12.702022012919146)"
      ]
     },
     "execution_count": 124,
     "metadata": {},
     "output_type": "execute_result"
    }
   ],
   "source": [
    "#the call for this is super easy -- just plug in your x and y values to get a lot of information\n",
    "sciFit = stats.linregress(current,voltage)\n",
    "sciFit"
   ]
  },
  {
   "cell_type": "code",
   "execution_count": 137,
   "metadata": {},
   "outputs": [
    {
     "name": "stdout",
     "output_type": "stream",
     "text": [
      "-658.179508508\n",
      "216.618175859\n",
      "\n",
      "[ 784.49891697   12.70202201]\n",
      "The R^2 value is 0.879093171004\n"
     ]
    }
   ],
   "source": [
    "print(sciFit.intercept) #best fit intercept\n",
    "print(sciFit.slope) #best fit intercept\n",
    "\n",
    "print()\n",
    "print(np.sqrt(np.diagonal(fitted.cov_params()))) #statistical error on intercept, slope\n",
    "\n",
    "#r^2 value tells you about how much variation in the data your model accounts for\n",
    "print('The R^2 value is ' + str(sciFit.rvalue**2)) "
   ]
  },
  {
   "cell_type": "code",
   "execution_count": 131,
   "metadata": {},
   "outputs": [
    {
     "data": {
      "text/plain": [
       "Text(0.5,1,'OLS with SciPy Linregress')"
      ]
     },
     "execution_count": 131,
     "metadata": {},
     "output_type": "execute_result"
    },
    {
     "data": {
      "image/png": "[encoded data removed]",
      "text/plain": [
       "<matplotlib.figure.Figure at 0x1c2075d400>"
      ]
     },
     "metadata": {},
     "output_type": "display_data"
    }
   ],
   "source": [
    "plt.scatter(current,voltage)\n",
    "plt.errorbar(current,voltage,yerr=uncertainty,fmt='none',label='Experimental Uncertainty',color='orange')\n",
    "\n",
    "plt.plot(current,linear(current,sciFit.slope,sciFit.intercept))\n",
    "\n",
    "plt.xlabel('current (mA)')\n",
    "plt.ylabel('voltage (mA)')\n",
    "plt.legend(loc=2)\n",
    "\n",
    "plt.title('OLS with SciPy Linregress')"
   ]
  },
  {
   "cell_type": "markdown",
   "metadata": {},
   "source": [
    "## 3) Using ordinary least squares with summary (Statsmodels)"
   ]
  },
  {
   "cell_type": "code",
   "execution_count": 143,
   "metadata": {},
   "outputs": [],
   "source": [
    "x_fit = sm.add_constant(current) #this says to include an intercept when fitting the model\n",
    "\n",
    "fitted = sm.OLS(voltage,x_fit).fit() #this fits the model to the data. Notice that it is **Y** before X"
   ]
  },
  {
   "cell_type": "code",
   "execution_count": 144,
   "metadata": {},
   "outputs": [
    {
     "data": {
      "text/plain": [
       "(array([-658.17950851,  216.61817586]),\n",
       " array([[  6.15438551e+05,  -8.61870196e+03],\n",
       "        [ -8.61870196e+03,   1.61341363e+02]]))"
      ]
     },
     "execution_count": 144,
     "metadata": {},
     "output_type": "execute_result"
    }
   ],
   "source": [
    "fitted.params, fitted.cov_params()"
   ]
  },
  {
   "cell_type": "code",
   "execution_count": 145,
   "metadata": {},
   "outputs": [
    {
     "name": "stdout",
     "output_type": "stream",
     "text": [
      "                            OLS Regression Results                            \n",
      "==============================================================================\n",
      "Dep. Variable:                      y   R-squared:                       0.879\n",
      "Model:                            OLS   Adj. R-squared:                  0.876\n",
      "Method:                 Least Squares   F-statistic:                     290.8\n",
      "Date:                Thu, 09 Aug 2018   Prob (F-statistic):           5.94e-20\n",
      "Time:                        20:23:38   Log-Likelihood:                -388.04\n",
      "No. Observations:                  42   AIC:                             780.1\n",
      "Df Residuals:                      40   BIC:                             783.6\n",
      "Df Model:                           1                                         \n",
      "Covariance Type:            nonrobust                                         \n",
      "==============================================================================\n",
      "                 coef    std err          t      P>|t|      [0.025      0.975]\n",
      "------------------------------------------------------------------------------\n",
      "const       -658.1795    784.499     -0.839      0.406   -2243.711     927.352\n",
      "x1           216.6182     12.702     17.054      0.000     190.946     242.290\n",
      "==============================================================================\n",
      "Omnibus:                        5.917   Durbin-Watson:                   1.359\n",
      "Prob(Omnibus):                  0.052   Jarque-Bera (JB):                7.534\n",
      "Skew:                          -0.219   Prob(JB):                       0.0231\n",
      "Kurtosis:                       5.028   Cond. No.                         123.\n",
      "==============================================================================\n",
      "\n",
      "Warnings:\n",
      "[1] Standard Errors assume that the covariance matrix of the errors is correctly specified.\n"
     ]
    }
   ],
   "source": [
    "print(fitted.summary())"
   ]
  },
  {
   "cell_type": "code",
   "execution_count": 146,
   "metadata": {},
   "outputs": [
    {
     "data": {
      "text/plain": [
       "Text(0.5,1,'OLS fit with StatsModels')"
      ]
     },
     "execution_count": 146,
     "metadata": {},
     "output_type": "execute_result"
    },
    {
     "data": {
      "image/png": "[encoded data removed]",
      "text/plain": [
       "<matplotlib.figure.Figure at 0x1c2103fe80>"
      ]
     },
     "metadata": {},
     "output_type": "display_data"
    }
   ],
   "source": [
    "plt.scatter(current,voltage)\n",
    "plt.errorbar(current,voltage,yerr=uncertainty,fmt='none',label='Experimental Uncertainty',color='orange')\n",
    "\n",
    "plt.plot(current,linear(current,fitted.params[1],fitted.params[0]))\n",
    "\n",
    "plt.xlabel('current (mA)')\n",
    "plt.ylabel('voltage (mA)')\n",
    "plt.legend(loc=2)\n",
    "\n",
    "plt.title('OLS fit with StatsModels')"
   ]
  },
  {
   "cell_type": "markdown",
   "metadata": {},
   "source": [
    "#### Statsmodels with weights"
   ]
  },
  {
   "cell_type": "markdown",
   "metadata": {},
   "source": [
    "Defining the weight as the inverse square of the uncertainty means that points which are known with a higher degree of certainty are \"trusted more\" by the model, while points with large degrees of uncertainty don't impact the fit too much."
   ]
  },
  {
   "cell_type": "code",
   "execution_count": 48,
   "metadata": {},
   "outputs": [],
   "source": [
    "weight = 1/uncertainty**2"
   ]
  },
  {
   "cell_type": "code",
   "execution_count": 49,
   "metadata": {},
   "outputs": [],
   "source": [
    "weighted_x_fit = sm.add_constant(current) "
   ]
  },
  {
   "cell_type": "code",
   "execution_count": 147,
   "metadata": {},
   "outputs": [],
   "source": [
    "weighted_fit = sm.WLS(voltage, weighted_x_fit, weights=weight).fit()"
   ]
  },
  {
   "cell_type": "code",
   "execution_count": 148,
   "metadata": {},
   "outputs": [
    {
     "name": "stdout",
     "output_type": "stream",
     "text": [
      "[ -32.98083995  174.46599787]\n",
      "\n",
      "[ 110.01289683    9.1583926 ]\n"
     ]
    }
   ],
   "source": [
    "print(weighted_fit.params)\n",
    "print()\n",
    "print(np.sqrt(np.diagonal(weighted_fit.cov_params())))"
   ]
  },
  {
   "cell_type": "code",
   "execution_count": 149,
   "metadata": {},
   "outputs": [
    {
     "name": "stdout",
     "output_type": "stream",
     "text": [
      "                            WLS Regression Results                            \n",
      "==============================================================================\n",
      "Dep. Variable:                      y   R-squared:                       0.901\n",
      "Model:                            WLS   Adj. R-squared:                  0.898\n",
      "Method:                 Least Squares   F-statistic:                     362.9\n",
      "Date:                Thu, 09 Aug 2018   Prob (F-statistic):           1.14e-21\n",
      "Time:                        20:24:01   Log-Likelihood:                -379.71\n",
      "No. Observations:                  42   AIC:                             763.4\n",
      "Df Residuals:                      40   BIC:                             766.9\n",
      "Df Model:                           1                                         \n",
      "Covariance Type:            nonrobust                                         \n",
      "==============================================================================\n",
      "                 coef    std err          t      P>|t|      [0.025      0.975]\n",
      "------------------------------------------------------------------------------\n",
      "const        -32.9808    110.013     -0.300      0.766    -255.325     189.364\n",
      "x1           174.4660      9.158     19.050      0.000     155.956     192.976\n",
      "==============================================================================\n",
      "Omnibus:                       16.959   Durbin-Watson:                   1.427\n",
      "Prob(Omnibus):                  0.000   Jarque-Bera (JB):               19.541\n",
      "Skew:                          -1.489   Prob(JB):                     5.71e-05\n",
      "Kurtosis:                       4.517   Cond. No.                         14.6\n",
      "==============================================================================\n",
      "\n",
      "Warnings:\n",
      "[1] Standard Errors assume that the covariance matrix of the errors is correctly specified.\n"
     ]
    }
   ],
   "source": [
    "print(weighted_fit.summary())"
   ]
  },
  {
   "cell_type": "markdown",
   "metadata": {},
   "source": [
    "Go to https://www.statsmodels.org/dev/examples/notebooks/generated/wls.html for more information and examples of use."
   ]
  },
  {
   "cell_type": "code",
   "execution_count": 151,
   "metadata": {},
   "outputs": [
    {
     "data": {
      "text/plain": [
       "Text(0.5,1,'WLS fit with StatsModels')"
      ]
     },
     "execution_count": 151,
     "metadata": {},
     "output_type": "execute_result"
    },
    {
     "data": {
      "image/png": "[encoded data removed]",
      "text/plain": [
       "<matplotlib.figure.Figure at 0x1c20f8e940>"
      ]
     },
     "metadata": {},
     "output_type": "display_data"
    }
   ],
   "source": [
    "plt.scatter(current,voltage)\n",
    "plt.errorbar(current,voltage,yerr=uncertainty,fmt='none',label='Experimental Uncertainty',color='orange')\n",
    "\n",
    "plt.plot(current,linear(current,weighted_fit.params[1],weighted_fit.params[0]))\n",
    "\n",
    "plt.xlabel('current (mA)')\n",
    "plt.ylabel('voltage (mA)')\n",
    "plt.legend(loc=2)\n",
    "\n",
    "plt.title('WLS fit with StatsModels')"
   ]
  },
  {
   "cell_type": "markdown",
   "metadata": {},
   "source": [
    "### We've now done the linear fitting problem in 5 different ways - two with weights, three without. \n",
    "\n",
    "### Let's compare the results graphically."
   ]
  },
  {
   "cell_type": "code",
   "execution_count": 153,
   "metadata": {},
   "outputs": [
    {
     "data": {
      "text/plain": [
       "<matplotlib.legend.Legend at 0x1c2100c550>"
      ]
     },
     "execution_count": 153,
     "metadata": {},
     "output_type": "execute_result"
    },
    {
     "data": {
      "image/png": "[encoded data removed]",
      "text/plain": [
       "<matplotlib.figure.Figure at 0x1c20e90128>"
      ]
     },
     "metadata": {},
     "output_type": "display_data"
    }
   ],
   "source": [
    "#scatter the raw data and its error\n",
    "plt.scatter(current,voltage,color='black')\n",
    "plt.errorbar(current,voltage,yerr=uncertainty,fmt='none',label='Experimental Uncertainty')\n",
    "\n",
    "\n",
    "#####################################################################################################\n",
    "#####################       Various fitting methods compared  #######################################\n",
    "#####################################################################################################\n",
    "\n",
    "#ordinary least squares with scipy curvefit\n",
    "plt.plot(current,linear(current,*params),label='OLS with SciPy Curvefit')\n",
    "\n",
    "#weighted least squares with scipy curvefit\n",
    "plt.plot(current,linear(current,*weightedParams),label='WLS with SciPy Curvefit')\n",
    "\n",
    "#ordinary least squares with stats.linregress\n",
    "plt.plot(current,linear(current,sciFit.slope,sciFit.intercept),label='OLS with stats.linregress')\n",
    "\n",
    "#ordinary least squares in statsmodels\n",
    "plt.plot(current,linear(current,fitted.params[1],fitted.params[0]),label='OLS in Statsmodels')\n",
    "\n",
    "#weighted least squares in statsmodels \n",
    "plt.plot(current,linear(current,weighted_fit.params[1],weighted_fit.params[0]),label='WLS in Statsmodels')\n",
    "\n",
    "\n",
    "\n",
    "#####################################################################################################\n",
    "\n",
    "#####################################################################################################\n",
    "\n",
    "\n",
    "\n",
    "plt.xlabel('x data')\n",
    "plt.ylabel('y data')\n",
    "plt.legend()"
   ]
  },
  {
   "cell_type": "markdown",
   "metadata": {},
   "source": [
    "Perhaps unsurprisingly, no matter the package used, the weighted and unweighted methods gave exactly the same solutions."
   ]
  },
  {
   "cell_type": "markdown",
   "metadata": {},
   "source": [
    "# Fitting a non-linear function\n",
    "\n",
    "Suppose we have normally distributed data like below. "
   ]
  },
  {
   "cell_type": "code",
   "execution_count": 156,
   "metadata": {},
   "outputs": [
    {
     "data": {
      "image/png": "[encoded data removed]",
      "text/plain": [
       "<matplotlib.figure.Figure at 0x1c210e0748>"
      ]
     },
     "metadata": {},
     "output_type": "display_data"
    }
   ],
   "source": [
    "numBins = 50\n",
    "\n",
    "randomValues = stats.norm.rvs(0,1,1000)\n",
    "counts, bins, hist = plt.hist(randomValues,bins=numBins)\n",
    "\n",
    "halfWidths = 0.5*(bins[1] - bins[0])\n",
    "centers = bins[:-1] + halfWidths"
   ]
  },
  {
   "cell_type": "markdown",
   "metadata": {},
   "source": [
    "There is no straightforward way to transform this data into a set of linear outputs like with some other datasets, where techniques such as a log transformation may be beneficial. We want to fit a Gaussian curve to this data.\n",
    "\n",
    "Let's first define what a Gaussian function looks like, which we can use with curve_fit to find the right parameters."
   ]
  },
  {
   "cell_type": "code",
   "execution_count": 158,
   "metadata": {},
   "outputs": [],
   "source": [
    "def gaussian(x,a,mu,sigma):\n",
    "    return a*np.exp(-.5*(x-mu)**2 / (sigma ** 2) )"
   ]
  },
  {
   "cell_type": "markdown",
   "metadata": {},
   "source": [
    "This says our function takes the form $$f(x;a,\\mu,\\sigma) = a e^{-\\frac{(x-\\mu)^{2} }{2\\sigma^{2}} }$$\n",
    "\n",
    "where we wish to find the $a,\\mu,\\sigma$ that minimize the error between the \"best fit\" function and the observed data. We will thus invoke the power of curve_fit to optimize for these parameters.\n",
    "\n",
    "These parameters an amplitude, center, and spread, which we call a, $\\mu$, and $\\sigma$. We make guesses about what they are to use our fitting algorithm. A reasonable guess for this Gaussian is that the amplitude would be the highest mark, the max amount of counts, the center would be close to the average on the x axis, and the spread would be close to the standard deviation as it normally is for a normalized Gaussian.\n",
    "\n",
    "Note that these are *guesses* and not exact solutions since this isn't a normalized Gaussian probability density, but a function of the same form."
   ]
  },
  {
   "cell_type": "code",
   "execution_count": 159,
   "metadata": {},
   "outputs": [
    {
     "data": {
      "text/plain": [
       "array([  5.01571309e+01,   1.00691179e-02,   9.35453158e-01])"
      ]
     },
     "execution_count": 159,
     "metadata": {},
     "output_type": "execute_result"
    }
   ],
   "source": [
    "parameter_guesses = [np.max(counts),np.mean(centers),np.std(centers)]\n",
    "\n",
    "gaussParams, gaussCov = optimize.curve_fit(f=gaussian,xdata=centers,ydata=counts,p0=parameter_guesses)\n",
    "\n",
    "gaussParams"
   ]
  },
  {
   "cell_type": "markdown",
   "metadata": {},
   "source": [
    "The covariance matrix is $\\sigma_{i}\\sigma_{j}$ where i and j represent the i-th parameter in the given model. For example, the gaussian model has parameters a, mu, and sigma, corresponding to i = {1,2,3}.\n",
    "\n",
    "The diagonal elements give the square of the uncertainty in your fit parameters,  $[\\sigma_{a}^{2}, \\sigma_{\\mu}^{2},\\sigma_{\\sigma}^{2}]$. The parameters and their covariance values aren't guaranteed to be well-behaved since the procedure relies on numerical optimization, so be sure to sanity-check your results."
   ]
  },
  {
   "cell_type": "code",
   "execution_count": 162,
   "metadata": {},
   "outputs": [
    {
     "data": {
      "text/plain": [
       "array([[  2.26569375e+00,  -4.48279205e-05,  -2.82622175e-02],\n",
       "       [ -4.48279205e-05,   1.05000722e-03,   1.89966800e-06],\n",
       "       [ -2.82622175e-02,   1.89966800e-06,   1.05483195e-03]])"
      ]
     },
     "execution_count": 162,
     "metadata": {},
     "output_type": "execute_result"
    }
   ],
   "source": [
    "gaussCov"
   ]
  },
  {
   "cell_type": "markdown",
   "metadata": {},
   "source": [
    "Thus the uncertainties we need can be extracted by taking the square root of the diagonal entries of the covariance matrix just like before in the linear case."
   ]
  },
  {
   "cell_type": "code",
   "execution_count": 163,
   "metadata": {},
   "outputs": [
    {
     "data": {
      "text/plain": [
       "Text(0.5,1,'Gaussian fit with error')"
      ]
     },
     "execution_count": 163,
     "metadata": {},
     "output_type": "execute_result"
    },
    {
     "data": {
      "image/png": "[encoded data removed]",
      "text/plain": [
       "<matplotlib.figure.Figure at 0x1c21636400>"
      ]
     },
     "metadata": {},
     "output_type": "display_data"
    }
   ],
   "source": [
    "uncertaintyArray = np.sqrt( np.diagonal(gaussCov) )\n",
    "uncertaintyArray\n",
    "\n",
    "error= np.sqrt(counts)\n",
    "plt.errorbar(centers,counts,yerr=error,fmt='none',color='orange')\n",
    "\n",
    "_,_, hist = plt.hist(randomValues,bins=numBins,rwidth=.8)\n",
    "\n",
    "xVals = np.linspace(-4,4,150)\n",
    "plt.scatter(xVals, gaussian(xVals,*gaussParams), color='black',s=10,label='best fit')\n",
    "\n",
    "plt.legend()\n",
    "plt.ylabel('Counts')\n",
    "plt.xlabel('Value')\n",
    "plt.title('Gaussian fit with error')"
   ]
  },
  {
   "cell_type": "markdown",
   "metadata": {},
   "source": [
    "# Checking the fit of your model"
   ]
  },
  {
   "cell_type": "markdown",
   "metadata": {},
   "source": [
    "\n",
    "\n",
    "\n",
    "How can we quantify if our model is a good fit? There are many metrics for \"goodness of fit\", whether that be R^2, a reduced chi-square test, or otherwise. Since most of these models yield R^2, let's see how we'd calculate the reduced chi-square value. \n",
    "\n",
    "First, let's define the chi-square per degree of freedom, or reduced chi-square.\n",
    "\n",
    "$$\\frac{\\chi ^{2}}{df} = \\frac{1}{N-\\nu}\\sum_{i=1}^{N} \\frac{[y_{i} - f(x_{i};\\hat{\\theta})]^{2}}{\\sigma_{i}^{2}}$$\n",
    "\n",
    "where $\\nu$ is the number of parameters in your model (two for linear models, slope and intercept), $\\sigma_{i}$ is the uncertainty in i-th measurement, $y_{i}$ is the i-th measured y value, and $f(x_{i};\\hat{\\theta})$ is your fitted function evaluated at the i-th x value with your fitted parameters, $\\hat{\\theta}$. N is, of course, the number of data points you have. Note that $N-\\nu$ is what's referred to as the degrees of freedom.\n",
    "\n",
    "Heuristically speaking, this sum is something like comparing the variance between the fitted values and the measured values with the variance that you're expecting, $\\sigma_{i}^{2}$. \n",
    "\n",
    "Because of this, a good $\\frac{\\chi^{2}}{df}$ value is very close to 1. If you underestimate the uncertainty in your measurements, this statistic will be greater than 1 by a significant amount. If you overestimate the uncertainty in your measurements, the statistic will be considerably smaller than 1.\n",
    "\n",
    "Let's now calculate each piece of this sum for a WLS example and combine them to get the reduced chi square."
   ]
  },
  {
   "cell_type": "code",
   "execution_count": 54,
   "metadata": {},
   "outputs": [
    {
     "data": {
      "text/plain": [
       "(array([ 58.2,  77.5,  36.1,  87.5,  52.4,  11.4,  89.1,   8. ,   4.5,\n",
       "         47.5,  97. ,   9.7,  94.6,  50.6,  24.4,  60.4,  18.8,   8.4,\n",
       "         42.8,  48.1,  35.2,  84. ,  55.1,  19.6,   2.3,  98.2,  13. ,\n",
       "         64.5,  91.6,  90.4,  44.3,  96.3,  64.5,  22.3,  52.5,  87.2,\n",
       "         49.8,  91.8,  50.6,  95.7,  22.7,  85. ]),\n",
       " array([ 12900.,  20019.,   7373.,  22439.,  12522.,   2605.,  25947.,\n",
       "          1680.,    873.,  11400.,  18386.,   1011.,  20492.,  10377.,\n",
       "          6762.,  10261.,   2142.,   1416.,   7830.,  10267.,   7766.,\n",
       "         19486.,  13135.,   3837.,    455.,  21545.,   2211.,   9678.,\n",
       "         18514.,  22279.,   9388.,  18198.,  10673.,   4197.,   6461.,\n",
       "         18375.,   9548.,  11647.,   5272.,  18952.,   3097.,  16945.]),\n",
       " array([ 2580. ,  4003.8,  1474.6,  4487.8,  2504.4,   521. ,  5189.4,\n",
       "          336. ,   174.6,  2280. ,  3677.2,   202.2,  4098.4,  2075.4,\n",
       "         1352.4,  2052.2,   428.4,   283.2,  1566. ,  2053.4,  1553.2,\n",
       "         3897.2,  2627. ,   767.4,    91. ,  4309. ,   442.2,  1935.6,\n",
       "         3702.8,  4455.8,  1877.6,  3639.6,  2134.6,   839.4,  1292.2,\n",
       "         3675. ,  1909.6,  2329.4,  1054.4,  3790.4,   619.4,  3389. ]))"
      ]
     },
     "execution_count": 54,
     "metadata": {},
     "output_type": "execute_result"
    }
   ],
   "source": [
    "x, y, uncertainty"
   ]
  },
  {
   "cell_type": "markdown",
   "metadata": {},
   "source": [
    "## Reduced Chi Square Goodness of Fit"
   ]
  },
  {
   "cell_type": "code",
   "execution_count": 73,
   "metadata": {},
   "outputs": [],
   "source": [
    "best_fit = linear(x,*weightedParams)"
   ]
  },
  {
   "cell_type": "code",
   "execution_count": 74,
   "metadata": {
    "scrolled": true
   },
   "outputs": [],
   "source": [
    "numerator = (y - best_fit)**2"
   ]
  },
  {
   "cell_type": "code",
   "execution_count": 75,
   "metadata": {},
   "outputs": [],
   "source": [
    "denominator = uncertainty**2"
   ]
  },
  {
   "cell_type": "code",
   "execution_count": 76,
   "metadata": {},
   "outputs": [
    {
     "data": {
      "text/plain": [
       "40"
      ]
     },
     "execution_count": 76,
     "metadata": {},
     "output_type": "execute_result"
    }
   ],
   "source": [
    "dof = len(x) - len(weightedParams)\n",
    "dof"
   ]
  },
  {
   "cell_type": "code",
   "execution_count": 77,
   "metadata": {},
   "outputs": [
    {
     "data": {
      "text/plain": [
       "74.535101684878114"
      ]
     },
     "execution_count": 77,
     "metadata": {},
     "output_type": "execute_result"
    }
   ],
   "source": [
    "chisquare = np.sum(numerator/denominator)\n",
    "chisquare"
   ]
  },
  {
   "cell_type": "code",
   "execution_count": 78,
   "metadata": {},
   "outputs": [
    {
     "data": {
      "text/plain": [
       "1.8633775421219529"
      ]
     },
     "execution_count": 78,
     "metadata": {},
     "output_type": "execute_result"
    }
   ],
   "source": [
    "reduced_chi2 = chisquare/dof\n",
    "reduced_chi2"
   ]
  },
  {
   "cell_type": "code",
   "execution_count": 79,
   "metadata": {},
   "outputs": [],
   "source": [
    "def chi2_pvalue(chi2,dof):\n",
    "    return 1-stats.chi2.cdf(chi2,df=dof)"
   ]
  },
  {
   "cell_type": "code",
   "execution_count": 81,
   "metadata": {},
   "outputs": [
    {
     "data": {
      "text/plain": [
       "0.00074897731540313206"
      ]
     },
     "execution_count": 81,
     "metadata": {},
     "output_type": "execute_result"
    }
   ],
   "source": [
    "chi2_pvalue(chi2=chisquare,dof=dof)"
   ]
  },
  {
   "cell_type": "code",
   "execution_count": 82,
   "metadata": {},
   "outputs": [],
   "source": [
    "def reducedChiSquare(observedVector, fittedVector, uncertaintyVector,numberOfParams):\n",
    "    \n",
    "    residuals = observedVector - fittedVector\n",
    "    weightedResiduals = (residuals/uncertaintyVector)**2\n",
    "    \n",
    "    DoF = len(observedVector) - numberOfParams\n",
    "    \n",
    "    chiSq = np.sum(weightedResiduals)\n",
    "    \n",
    "    print('Reduced Chi-Square and p-value: ')\n",
    "    return chiSq/DoF, chi2_pvalue(chiSq,DoF)"
   ]
  },
  {
   "cell_type": "code",
   "execution_count": 84,
   "metadata": {},
   "outputs": [
    {
     "name": "stdout",
     "output_type": "stream",
     "text": [
      "Reduced Chi-Square and p-value: \n"
     ]
    },
    {
     "data": {
      "text/plain": [
       "(1.8633775421219529, 0.00074897731540313206)"
      ]
     },
     "execution_count": 84,
     "metadata": {},
     "output_type": "execute_result"
    }
   ],
   "source": [
    "reducedChiSquare(y,best_fit,uncertainty,2)"
   ]
  }
 ],
 "metadata": {
  "kernelspec": {
   "display_name": "Python 3",
   "language": "python",
   "name": "python3"
  },
  "language_info": {
   "codemirror_mode": {
    "name": "ipython",
    "version": 3
   },
   "file_extension": ".py",
   "mimetype": "text/x-python",
   "name": "python",
   "nbconvert_exporter": "python",
   "pygments_lexer": "ipython3",
   "version": "3.6.4"
  }
 },
 "nbformat": 4,
 "nbformat_minor": 2
}
